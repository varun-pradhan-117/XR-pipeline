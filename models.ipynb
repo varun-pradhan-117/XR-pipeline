{
 "cells": [
  {
   "cell_type": "code",
   "execution_count": 1,
   "metadata": {},
   "outputs": [],
   "source": [
    "import torch\n",
    "import torch.nn as nn\n",
    "import torch.optim as optim\n",
    "import cv2"
   ]
  },
  {
   "cell_type": "code",
   "execution_count": 7,
   "metadata": {},
   "outputs": [],
   "source": [
    "motion_vector_path=\"Fan_NOSSDAV_17\\dataset\\content\\motion\\coaster_motion.mp4\"\n",
    "op_path=\"StagedData\\coaster_motion_frames\""
   ]
  },
  {
   "cell_type": "code",
   "execution_count": 26,
   "metadata": {},
   "outputs": [],
   "source": [
    "def extract_frame(video_path,output_folder,fps=5,frame_width=960, frame_height=480):\n",
    "    video=cv2.VideoCapture(video_path)\n",
    "    original_frame_rate=int(video.get(cv2.CAP_PROP_FPS))\n",
    "    original_frame_width=int(video.get(cv2.CAP_PROP_FRAME_WIDTH))\n",
    "    original_frame_height=int(video.get(cv2.CAP_PROP_FRAME_HEIGHT))\n",
    "    frame_interval=original_frame_rate//fps\n",
    "    #print(frame_interval)\n",
    "    #print(original_frame_rate)\n",
    "    frame_count=0\n",
    "    op_index=1\n",
    "    while video.isOpened():\n",
    "        if frame_count % frame_interval==0:\n",
    "            ret,frame=video.read()\n",
    "            if not ret:\n",
    "                break\n",
    "            frame=cv2.resize(frame,(frame_width,frame_height))\n",
    "            output_file=f\"{output_folder}/{op_index}.jpg\"\n",
    "            cv2.imwrite(output_file,frame)\n",
    "            op_index+=1\n",
    "        frame_count+=1\n",
    "    video.release()\n",
    "\n",
    "        "
   ]
  },
  {
   "cell_type": "code",
   "execution_count": 25,
   "metadata": {},
   "outputs": [],
   "source": [
    "extract_frame(motion_vector_path,op_path)"
   ]
  },
  {
   "cell_type": "code",
   "execution_count": null,
   "metadata": {},
   "outputs": [],
   "source": [
    "class PositionOnlyModel(nn.Module):\n",
    "    def __init__(self,m_window,h_window,shared_weights=False):\n",
    "        super().__init__()\n",
    "        self.m_window=m_window\n",
    "        self.h_window=h_window\n",
    "        self.encoder_lstm=nn.LSTM(2,1024)\n",
    "        self.decoder_lstm=nn.LSTM(2,1024)\n",
    "        self.decoder_dense_mot=nn.Sequential(\n",
    "            nn.Linear(1024,2),\n",
    "            nn.Sigmoid() #sigmoid activation\n",
    "        )\n",
    "        self.decoder_dense_dir=nn.Sequential(\n",
    "            nn.Linear(1024,2)\n",
    "            nn.Tanh() # Tanh activation\n",
    "        )"
   ]
  },
  {
   "cell_type": "code",
   "execution_count": null,
   "metadata": {},
   "outputs": [],
   "source": [
    "class Encoder(nn.Module):\n",
    "    def __init__(self,input_size,hidden_size):\n",
    "        super().__init__()\n",
    "        self.hidden_size=hidden_size\n",
    "        self.lstm=nn.LSTM(input_size,hidden_size)\n",
    "    \n",
    "    def forward(self,input_seq):\n",
    "        encoder_op, (h_n,c_n)=self.lstm(input_seq)\n",
    "        return encoder_op,h_n,c_n\n",
    "\n",
    "class Decoder(nn.Module):\n",
    "    def __init__(self,output_size,hidden_size):\n",
    "        super().__init__()\n",
    "        self.hidden_size=hidden_size\n",
    "        self.lstm=nn.LSTM()"
   ]
  }
 ],
 "metadata": {
  "kernelspec": {
   "display_name": ".venv",
   "language": "python",
   "name": "python3"
  },
  "language_info": {
   "codemirror_mode": {
    "name": "ipython",
    "version": 3
   },
   "file_extension": ".py",
   "mimetype": "text/x-python",
   "name": "python",
   "nbconvert_exporter": "python",
   "pygments_lexer": "ipython3",
   "version": "3.11.6"
  }
 },
 "nbformat": 4,
 "nbformat_minor": 2
}
