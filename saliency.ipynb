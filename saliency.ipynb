{
 "cells": [
  {
   "cell_type": "code",
   "execution_count": 3,
   "metadata": {},
   "outputs": [],
   "source": [
    "import scipy.io\n",
    "#import entropy\n",
    "import numpy as np\n",
    "from scipy.ndimage import zoom\n",
    "#from skimage.transform import resize\n",
    "#import cv2\n",
    "import matplotlib.pyplot as plt\n",
    "import os\n",
    "from Utils import eulerian_to_cartesian"
   ]
  },
  {
   "cell_type": "code",
   "execution_count": null,
   "metadata": {},
   "outputs": [],
   "source": []
  },
  {
   "cell_type": "code",
   "execution_count": 4,
   "metadata": {},
   "outputs": [],
   "source": [
    "dataset_dir='/media/Blue2TB1/Jin_22'\n",
    "\n",
    "sampled_data_dir=os.path.join(dataset_dir,'sampled_dataset')\n",
    "NUM_TILES_WIDTH_TRUE_SAL = 256\n",
    "NUM_TILES_HEIGHT_TRUE_SAL = 256\n",
    "OUTPUT_TRUE_SALIENCY_FOLDER = os.path.join(dataset_dir,'true_saliency')\n",
    "trajec_info_dir=os.path.join(dataset_dir,'video_data')"
   ]
  },
  {
   "cell_type": "code",
   "execution_count": 5,
   "metadata": {},
   "outputs": [],
   "source": [
    "from pathlib import Path"
   ]
  },
  {
   "cell_type": "code",
   "execution_count": 42,
   "metadata": {},
   "outputs": [],
   "source": [
    "test=np.load(os.path.join(trajec_info_dir,'video_2','video_2_unit_vectors.'))"
   ]
  },
  {
   "cell_type": "code",
   "execution_count": 2,
   "metadata": {},
   "outputs": [],
   "source": [
    "def get_video_ids(folder):\n",
    "    list_of_videos = [o for o in os.listdir(folder) if not o.endswith('.gitkeep')]\n",
    "    return list_of_videos\n",
    "\n",
    "def get_sampled_unit_vectors():\n",
    "    pass\n",
    "\n",
    "def create_and_store_true_saliency(sampled_dataset):\n",
    "    if not os.path.exists(OUTPUT_TRUE_SALIENCY_FOLDER):\n",
    "        os.makedirs(OUTPUT_TRUE_SALIENCY_FOLDER)\n",
    "\n",
    "    # Returns an array of size (NUM_TILES_HEIGHT_TRUE_SAL, NUM_TILES_WIDTH_TRUE_SAL) with values between 0 and 1 specifying the probability that a tile is watched by the user\n",
    "    # We built this function to ensure the model and the groundtruth tile-probabilities are built with the same (or similar) function\n",
    "    def from_position_to_tile_probability_cartesian(user_data):\n",
    "        user_num = user_data.shape[0]\n",
    "        yaw_grid, pitch_grid = np.meshgrid(np.linspace(0, 1, NUM_TILES_WIDTH_TRUE_SAL, endpoint=False),\n",
    "                                           np.linspace(0, 1, NUM_TILES_HEIGHT_TRUE_SAL, endpoint=False))\n",
    "        yaw_grid += 1.0 / (2.0 * NUM_TILES_WIDTH_TRUE_SAL)\n",
    "        pitch_grid += 1.0 / (2.0 * NUM_TILES_HEIGHT_TRUE_SAL)\n",
    "        yaw_grid = yaw_grid * 2 * np.pi\n",
    "        pitch_grid = pitch_grid * np.pi\n",
    "        x_grid, y_grid, z_grid = eulerian_to_cartesian(theta=yaw_grid, phi=pitch_grid)\n",
    "        x_grid = np.expand_dims(x_grid, axis=0)\n",
    "        y_grid = np.expand_dims(y_grid, axis=0)\n",
    "        z_grid = np.expand_dims(z_grid, axis=0)\n",
    "        x_pos = np.expand_dims(user_data[:, 0], axis=(1, 2))\n",
    "        y_pos = np.expand_dims(user_data[:, 1], axis=(1, 2))\n",
    "        z_pos = np.expand_dims(user_data[:, 2], axis=(1, 2))\n",
    "        dot_product = x_grid * x_pos + y_grid * y_pos + z_grid * z_pos\n",
    "        great_circle_distance = np.arccos(np.clip(dot_product, -1.0, 1.0))\n",
    "        gaussian_orth = np.exp((-1.0 / (2.0 * np.square(0.1))) * np.square(great_circle_distance))\n",
    "        return gaussian_orth\n",
    "\n",
    "    videos = get_video_ids(sampled_dataset)\n",
    "    for enum_video, video in enumerate(videos):\n",
    "        print('creating true saliency for video', video, '-', enum_video+1, '/', len(videos))\n",
    "        real_saliency_for_video = []\n",
    "        video_data=np.load(os.path.join(sampled_dataset,video,f'{video}_unit_vectors.npy'))\n",
    "        max_num_samples=video_data.shape[1]\n",
    "        for x_i in range(max_num_samples):\n",
    "            tileprobs_for_video_cartesian=from_position_to_tile_probability_cartesian(video_data[:,x_i,:])\n",
    "            real_saliency_cartesian = np.sum(tileprobs_for_video_cartesian, axis=0) / tileprobs_for_video_cartesian.shape[0]\n",
    "            real_saliency_for_video.append(real_saliency_cartesian)\n",
    "        real_saliency_for_video = np.array(real_saliency_for_video)\n",
    "\n",
    "        true_sal_out_file = os.path.join(OUTPUT_TRUE_SALIENCY_FOLDER, video)\n",
    "        np.save(true_sal_out_file, real_saliency_for_video)"
   ]
  },
  {
   "cell_type": "code",
   "execution_count": 103,
   "metadata": {},
   "outputs": [
    {
     "name": "stdout",
     "output_type": "stream",
     "text": [
      "creating true saliency for video video_1 - 1 / 27\n",
      "creating true saliency for video video_2 - 2 / 27\n",
      "creating true saliency for video video_3 - 3 / 27\n",
      "creating true saliency for video video_4 - 4 / 27\n",
      "creating true saliency for video video_5 - 5 / 27\n",
      "creating true saliency for video video_6 - 6 / 27\n",
      "creating true saliency for video video_7 - 7 / 27\n",
      "creating true saliency for video video_8 - 8 / 27\n",
      "creating true saliency for video video_9 - 9 / 27\n",
      "creating true saliency for video video_10 - 10 / 27\n",
      "creating true saliency for video video_11 - 11 / 27\n",
      "creating true saliency for video video_12 - 12 / 27\n",
      "creating true saliency for video video_13 - 13 / 27\n",
      "creating true saliency for video video_14 - 14 / 27\n",
      "creating true saliency for video video_15 - 15 / 27\n",
      "creating true saliency for video video_16 - 16 / 27\n",
      "creating true saliency for video video_17 - 17 / 27\n",
      "creating true saliency for video video_18 - 18 / 27\n",
      "creating true saliency for video video_19 - 19 / 27\n",
      "creating true saliency for video video_20 - 20 / 27\n",
      "creating true saliency for video video_21 - 21 / 27\n",
      "creating true saliency for video video_22 - 22 / 27\n",
      "creating true saliency for video video_23 - 23 / 27\n",
      "creating true saliency for video video_24 - 24 / 27\n",
      "creating true saliency for video video_25 - 25 / 27\n",
      "creating true saliency for video video_26 - 26 / 27\n",
      "creating true saliency for video video_27 - 27 / 27\n"
     ]
    }
   ],
   "source": [
    "#create_and_store_true_saliency(trajec_info_dir)"
   ]
  },
  {
   "cell_type": "code",
   "execution_count": 11,
   "metadata": {},
   "outputs": [],
   "source": [
    "def shannon_entropy(saliency_map):\n",
    "    saliency_map_squared=np.square(saliency_map)\n",
    "    c_entropy=-np.sum(saliency_map_squared*np.log(saliency_map_squared))\n",
    "    return c_entropy\n",
    "\n",
    "def get_vid_shannon_entropy(saliency_maps):\n",
    "    epsilon=np.finfo(float).eps\n",
    "    squared_maps=np.square(saliency_maps)\n",
    "    squared_maps=np.where(squared_maps==0,epsilon,squared_maps)\n",
    "    c_entropy=-np.sum(squared_maps*np.log(squared_maps),axis=1)\n",
    "    return c_entropy\n",
    "\n",
    "def get_content_entropies(saliency_folder, trajec_info_dir):\n",
    "    saliencies=os.listdir(saliency_folder)\n",
    "    saliencies=['video_20.npy']\n",
    "    \n",
    "    for vid in saliencies:\n",
    "        vid_name=vid.split('.')[0]\n",
    "        print(f'Processing {vid_name}')\n",
    "        vid_saliency=np.load(os.path.join(saliency_folder,vid))\n",
    "        dest_path=os.path.join(trajec_info_dir,vid_name)\n",
    "        num_maps=len(vid_saliency)\n",
    "        c_entropies=get_vid_shannon_entropy(vid_saliency.reshape(num_maps,-1))\n",
    "        print(np.mean(c_entropies))\n",
    "        #np.save(os.path.join(dest_path,f'{vid_name}_content_entropy.npy'),c_entropies)\n",
    "            "
   ]
  },
  {
   "cell_type": "code",
   "execution_count": 12,
   "metadata": {},
   "outputs": [
    {
     "name": "stdout",
     "output_type": "stream",
     "text": [
      "Processing video_20\n",
      "386.2108866946764\n"
     ]
    }
   ],
   "source": [
    "sal_folder=OUTPUT_TRUE_SALIENCY_FOLDER\n",
    "op_folder=trajec_info_dir\n",
    "get_content_entropies(sal_folder,op_folder)"
   ]
  },
  {
   "cell_type": "code",
   "execution_count": 142,
   "metadata": {},
   "outputs": [],
   "source": [
    "sal_folder='Xu_CVPR_18/true_saliency'\n",
    "op_folder='D:/CVPR18/Trajectory_info'\n",
    "get_content_entropies(sal_folder,op_folder)"
   ]
  },
  {
   "cell_type": "code",
   "execution_count": 148,
   "metadata": {},
   "outputs": [],
   "source": [
    "sal_folder='Fan_NOSSDAV_17/true_saliency'\n",
    "op_folder='D:/Fan_NOSSDAV_17/video_data'\n",
    "get_content_entropies(sal_folder,op_folder)"
   ]
  },
  {
   "cell_type": "code",
   "execution_count": 6,
   "metadata": {},
   "outputs": [
    {
     "name": "stdout",
     "output_type": "stream",
     "text": [
      "Processing A380\n",
      "Processing AcerEngine\n",
      "Processing AcerPredator\n",
      "Processing AirShow\n",
      "Processing BFG\n",
      "Processing BTSRun\n",
      "Processing Bicycle\n",
      "Processing BlueWorld\n",
      "Processing CMLauncher\n",
      "Processing CMLauncher2\n",
      "Processing CS\n",
      "Processing Camping\n",
      "Processing CandyCarnival\n",
      "Processing Castle\n",
      "Processing Catwalks\n",
      "Processing DanceInTurn\n",
      "Processing Dancing\n",
      "Processing DrivingInAlps\n",
      "Processing Egypt\n",
      "Processing F5Fighter\n",
      "Processing Flight\n",
      "Processing GTA\n",
      "Processing GalaxyOnFire\n",
      "Processing Graffiti\n",
      "Processing Guitar\n",
      "Processing HondaF1\n",
      "Processing IRobot\n",
      "Processing InsideCar\n",
      "Processing KasabianLive\n",
      "Processing KingKong\n",
      "Processing Lion\n",
      "Processing LoopUniverse\n",
      "Processing MC\n",
      "Processing Manhattan\n",
      "Processing MercedesBenz\n",
      "Processing Motorbike\n",
      "Processing Murder\n",
      "Processing NotBeAloneTonight\n",
      "Processing Orion\n",
      "Processing Parachuting\n",
      "Processing Parasailing\n",
      "Processing Pearl\n",
      "Processing Predator\n",
      "Processing ProjectSoul\n",
      "Processing Rally\n",
      "Processing RingMan\n",
      "Processing RioOlympics\n",
      "Processing Roma\n",
      "Processing Shark\n",
      "Processing Skiing\n",
      "Processing SnowRopeway\n",
      "Processing Snowfield\n",
      "Processing SpaceWar\n",
      "Processing SpaceWar2\n",
      "Processing Square\n",
      "Processing StarWars\n",
      "Processing StarWars2\n",
      "Processing StarryPolar\n",
      "Processing Stratosphere\n",
      "Processing StreetFighter\n",
      "Processing Sunset\n",
      "Processing SuperMario64\n",
      "Processing Supercar\n",
      "Processing Surfing\n",
      "Processing SurfingArctic\n",
      "Processing Symphony\n",
      "Processing TalkingInCar\n",
      "Processing Terminator\n",
      "Processing TheInvisible\n",
      "Processing VRBasketball\n",
      "Processing Village\n",
      "Processing WaitingForLove\n",
      "Processing Waterfall\n",
      "Processing Waterskiing\n",
      "Processing WesternSichuan\n",
      "Processing Yacht\n"
     ]
    }
   ],
   "source": [
    "sal_folder='D:/PAMI18/true_saliency'\n",
    "op_folder='D:/PAMI18/video_data'\n",
    "get_content_entropies(sal_folder,op_folder)"
   ]
  },
  {
   "cell_type": "code",
   "execution_count": 9,
   "metadata": {},
   "outputs": [
    {
     "name": "stdout",
     "output_type": "stream",
     "text": [
      "Processing 1_PortoRiverside\n",
      "Processing 2_Diner\n",
      "Processing 3_PlanEnergyBioLab\n",
      "Processing 4_Ocean\n",
      "Processing 5_Waterpark\n",
      "Processing 6_DroneFlight\n",
      "Processing 7_GazaFishermen\n",
      "Processing 8_Sofa\n",
      "Processing 9_MattSwift\n",
      "Processing 10_Cows\n",
      "Processing 11_Abbottsford\n",
      "Processing 12_TeatroRegioTorino\n",
      "Processing 13_Fountain\n",
      "Processing 14_Warship\n",
      "Processing 15_Cockpit\n",
      "Processing 16_Turtle\n",
      "Processing 17_UnderwaterPark\n",
      "Processing 18_Bar\n",
      "Processing 19_Touvet\n"
     ]
    }
   ],
   "source": [
    "sal_folder='D:/MMSys18/true_saliency'\n",
    "op_folder='D:/MMSys18/video_data'\n",
    "get_content_entropies(sal_folder,op_folder)"
   ]
  },
  {
   "cell_type": "code",
   "execution_count": null,
   "metadata": {},
   "outputs": [],
   "source": []
  }
 ],
 "metadata": {
  "kernelspec": {
   "display_name": ".venv",
   "language": "python",
   "name": "python3"
  },
  "language_info": {
   "codemirror_mode": {
    "name": "ipython",
    "version": 3
   },
   "file_extension": ".py",
   "mimetype": "text/x-python",
   "name": "python",
   "nbconvert_exporter": "python",
   "pygments_lexer": "ipython3",
   "version": "3.10.12"
  }
 },
 "nbformat": 4,
 "nbformat_minor": 2
}
