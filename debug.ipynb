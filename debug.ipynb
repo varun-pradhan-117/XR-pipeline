{
 "cells": [
  {
   "cell_type": "code",
   "execution_count": 1,
   "metadata": {},
   "outputs": [],
   "source": [
    "import numpy as np\n",
    "import torch\n",
    "import torch.nn as nn\n",
    "from torch.utils.data import DataLoader\n",
    "from torchinfo import summary\n",
    "import os\n",
    "import sys\n",
    "import matplotlib.pyplot as plt\n",
    "import argparse\n",
    "from SampledDataset import read_sampled_positions_for_trace, load_saliency, load_true_saliency, get_video_ids, get_user_ids, get_users_per_video, split_list_by_percentage, partition_in_train_and_test_without_any_intersection, partition_in_train_and_test_without_video_intersection, partition_in_train_and_test\n",
    "from Utils import cartesian_to_eulerian, eulerian_to_cartesian, get_max_sal_pos,load_dict_from_csv,all_metrics, store_list_as_csv\n",
    "from data_utils import fan_nossdav_split, PositionDataset\n",
    "import TRACK_POS, TRACK_SAL\n",
    "import position_dataset"
   ]
  },
  {
   "cell_type": "code",
   "execution_count": 2,
   "metadata": {},
   "outputs": [
    {
     "name": "stdout",
     "output_type": "stream",
     "text": [
      "Using GPU\n"
     ]
    }
   ],
   "source": [
    "if torch.cuda.is_available():\n",
    "    device=torch.device(\"cuda\")\n",
    "    print(\"Using GPU\")\n",
    "dataset_name=\"Fan_NOSSDAV_17\"\n",
    "M_WINDOW=5\n",
    "H_WINDOW=25\n",
    "INIT_WINDOW=M_WINDOW\n",
    "END_WINDOW=H_WINDOW\n",
    "EPOCHS=500\n",
    "NUM_TILES_WIDTH=480\n",
    "NUM_TILES_HEIGHT=240\n",
    "NUM_TILES_WIDTH_TRUE_SAL = 256\n",
    "NUM_TILES_HEIGHT_TRUE_SAL = 256\n",
    "RATE = 0.2\n",
    "PERC_VIDEOS_TRAIN = 0.6\n",
    "PERC_USERS_TRAIN = 0.6\n",
    "BATCH_SIZE = 64\n",
    "model_name='TRACK'\n",
    "root_dataset_folder = os.path.join('./', dataset_name)\n",
    "EXP_NAME=f\"_init_{INIT_WINDOW}_in_{M_WINDOW}_out_{H_WINDOW}_end_{END_WINDOW}\"\n",
    "SAMPLED_DATASET_FOLDER=os.path.join(root_dataset_folder,'sampled_dataset')\n",
    "SALIENCY_FOLDER = os.path.join(root_dataset_folder, 'extract_saliency/saliency')"
   ]
  },
  {
   "cell_type": "code",
   "execution_count": 3,
   "metadata": {},
   "outputs": [],
   "source": [
    "videos = get_video_ids(SAMPLED_DATASET_FOLDER)\n",
    "users = get_user_ids(SAMPLED_DATASET_FOLDER)\n",
    "users_per_video = get_users_per_video(SAMPLED_DATASET_FOLDER)"
   ]
  },
  {
   "cell_type": "code",
   "execution_count": 4,
   "metadata": {},
   "outputs": [
    {
     "data": {
      "text/plain": [
       "['coaster',\n",
       " 'coaster2',\n",
       " 'diving',\n",
       " 'drive',\n",
       " 'game',\n",
       " 'landscape',\n",
       " 'pacman',\n",
       " 'panel',\n",
       " 'ride',\n",
       " 'sport']"
      ]
     },
     "execution_count": 4,
     "metadata": {},
     "output_type": "execute_result"
    }
   ],
   "source": [
    "videos"
   ]
  },
  {
   "cell_type": "code",
   "execution_count": 6,
   "metadata": {},
   "outputs": [],
   "source": [
    "split_path=os.path.join(dataset_name,\"splits\")\n",
    "if os.path.exists(os.path.join(split_path,'train_set')):\n",
    "    train_traces=load_dict_from_csv(os.path.join(split_path,'train_set'),columns=['user','video'])\n",
    "    test_traces=load_dict_from_csv(os.path.join(split_path,'test_set'),columns=['user','video'])\n",
    "    user_test_traces=load_dict_from_csv(os.path.join(split_path,'user_test_set'),columns=['user','video'])\n",
    "    video_test_traces=load_dict_from_csv(os.path.join(split_path,'video_test_set'),columns=['user','video'])"
   ]
  },
  {
   "cell_type": "code",
   "execution_count": 7,
   "metadata": {},
   "outputs": [],
   "source": [
    "partitions=partition_in_train_and_test(SAMPLED_DATASET_FOLDER,INIT_WINDOW,END_WINDOW,train_traces,test_traces,user_test_traces=user_test_traces,video_test_traces=video_test_traces)\n"
   ]
  },
  {
   "cell_type": "code",
   "execution_count": 8,
   "metadata": {},
   "outputs": [],
   "source": [
    "all_traces = {}\n",
    "for video in videos:\n",
    "    all_traces[video] = {}\n",
    "    for user in users_per_video[video]:\n",
    "        all_traces[video][user] = read_sampled_positions_for_trace(SAMPLED_DATASET_FOLDER, str(video), str(user))"
   ]
  },
  {
   "cell_type": "code",
   "execution_count": 9,
   "metadata": {},
   "outputs": [
    {
     "data": {
      "text/plain": [
       "dict_keys(['user21', 'user22', 'user23', 'user24', 'user25', 'user26', 'user27', 'user28', 'user29', 'user30', 'user31', 'user32', 'user33', 'user34', 'user35', 'user36', 'user37', 'user38', 'user39', 'user40', 'user41', 'user42', 'user43', 'user44', 'user45', 'user46', 'user47', 'user48', 'user49', 'user50'])"
      ]
     },
     "execution_count": 9,
     "metadata": {},
     "output_type": "execute_result"
    }
   ],
   "source": [
    "all_traces['coaster'].keys()"
   ]
  },
  {
   "cell_type": "code",
   "execution_count": 10,
   "metadata": {},
   "outputs": [],
   "source": [
    "all_saliencies = {}\n",
    "for video in videos:\n",
    "    all_saliencies[video]=load_saliency(SALIENCY_FOLDER,video)"
   ]
  },
  {
   "cell_type": "code",
   "execution_count": 11,
   "metadata": {},
   "outputs": [],
   "source": [
    "def custom_collate_fn(batch):\n",
    "    print(batch[0][1].shape)\n",
    "    inputs, targets = zip(*batch)\n",
    "    targets = torch.stack(targets, dim=0) # Stack target tensors\n",
    "    if targets.size(1) == 1:\n",
    "        targets = targets.squeeze(dim=1)\n",
    "\n",
    "    return inputs, targets"
   ]
  },
  {
   "cell_type": "code",
   "execution_count": 12,
   "metadata": {},
   "outputs": [],
   "source": [
    "def reshape_ip(input):\n",
    "    input=[ip.squeeze(dim=1) for ip in input]\n",
    "    return input"
   ]
  },
  {
   "cell_type": "code",
   "execution_count": 13,
   "metadata": {},
   "outputs": [],
   "source": [
    "def MetricOrthLoss(position_a, position_b,epsilon=1e-8):\n",
    "    # Transform into directional vector in Cartesian Coordinate System\n",
    "    norm_a = torch.sqrt(torch.square(position_a[:, :, 0:1]) + torch.square(position_a[:, :, 1:2]) + torch.square(position_a[:, :, 2:3]))\n",
    "    norm_b = torch.sqrt(torch.square(position_b[:, :, 0:1]) + torch.square(position_b[:, :, 1:2]) + torch.square(position_b[:, :, 2:3]))\n",
    "    norm_a = torch.max(norm_a, torch.tensor(1e-8, device=norm_a.device))\n",
    "    norm_b = torch.max(norm_b, torch.tensor(1e-8, device=norm_b.device))\n",
    "    x_true = position_a[:, :, 0:1]/norm_a\n",
    "    y_true = position_a[:, :, 1:2]/norm_a\n",
    "    z_true = position_a[:, :, 2:3]/norm_a\n",
    "    x_pred = position_b[:, :, 0:1]/norm_b\n",
    "    y_pred = position_b[:, :, 1:2]/norm_b\n",
    "    z_pred = position_b[:, :, 2:3]/norm_b\n",
    "    # Finally compute orthodromic distance\n",
    "    # great_circle_distance = np.arccos(x_true*x_pred+y_true*y_pred+z_true*z_pred)\n",
    "    # To keep the values in bound between -1 and 1\n",
    "    great_circle_distance = torch.acos(torch.clamp(x_true * x_pred + y_true * y_pred + z_true * z_pred, -1.0, 1.0))\n",
    "    return great_circle_distance.mean()\n",
    "# This way we ensure that the network learns to predict the delta angle\n",
    "def toPosition(values):\n",
    "    orientation = values[0]\n",
    "    # The network returns values between 0 and 1, we force it to be between -1/2 and 1/2\n",
    "    motion = values[1]\n",
    "    return (orientation + motion)"
   ]
  },
  {
   "cell_type": "code",
   "execution_count": 14,
   "metadata": {},
   "outputs": [],
   "source": [
    "model_name='TRACK'\n",
    "train_data=PositionDataset(partitions['train'],future_window=H_WINDOW,M_WINDOW=M_WINDOW,all_traces=all_traces,model_name=model_name,all_saliencies=all_saliencies)\n",
    "train_loader=DataLoader(train_data,batch_size=BATCH_SIZE,shuffle=False)\n",
    "test_data=PositionDataset(partitions['test'],future_window=H_WINDOW,M_WINDOW=M_WINDOW,all_traces=all_traces,model_name=model_name,all_saliencies=all_saliencies)\n",
    "test_loader=DataLoader(test_data,batch_size=BATCH_SIZE,shuffle=False)\n",
    "\n",
    "train_data2=position_dataset.PositionDataset(partitions['train'],future_window=H_WINDOW,M_WINDOW=M_WINDOW,all_traces=all_traces,model_name=model_name,all_saliencies=all_saliencies)\n",
    "train_loader2=DataLoader(train_data,batch_size=BATCH_SIZE,shuffle=False)\n",
    "test_data2=position_dataset.PositionDataset(partitions['test'],future_window=H_WINDOW,M_WINDOW=M_WINDOW,all_traces=all_traces,model_name=model_name,all_saliencies=all_saliencies)\n",
    "test_loader2=DataLoader(test_data,batch_size=BATCH_SIZE,shuffle=False)"
   ]
  },
  {
   "cell_type": "code",
   "execution_count": 15,
   "metadata": {},
   "outputs": [],
   "source": [
    "b1=next(iter(train_loader))\n",
    "ip1,t1=b1\n",
    "b2=next(iter(train_loader2))\n",
    "ip2,t2=b2"
   ]
  },
  {
   "cell_type": "code",
   "execution_count": 16,
   "metadata": {},
   "outputs": [],
   "source": [
    "ip3=reshape_ip(ip2)"
   ]
  },
  {
   "cell_type": "code",
   "execution_count": 17,
   "metadata": {},
   "outputs": [],
   "source": [
    "ip_sizes=[]\n",
    "for ip in ip3:\n",
    "    ip_sizes.append(ip.shape)"
   ]
  },
  {
   "cell_type": "code",
   "execution_count": 18,
   "metadata": {},
   "outputs": [
    {
     "data": {
      "text/plain": [
       "[torch.Size([64, 5, 3]),\n",
       " torch.Size([64, 5, 240, 480]),\n",
       " torch.Size([64, 1, 3]),\n",
       " torch.Size([64, 25, 240, 480])]"
      ]
     },
     "execution_count": 18,
     "metadata": {},
     "output_type": "execute_result"
    }
   ],
   "source": [
    "ip_sizes"
   ]
  },
  {
   "cell_type": "code",
   "execution_count": 19,
   "metadata": {},
   "outputs": [],
   "source": [
    "from torchviz import make_dot"
   ]
  },
  {
   "cell_type": "code",
   "execution_count": 20,
   "metadata": {},
   "outputs": [
    {
     "data": {
      "text/plain": [
       "torch.Size([64, 1, 25, 3])"
      ]
     },
     "execution_count": 20,
     "metadata": {},
     "output_type": "execute_result"
    }
   ],
   "source": [
    "t2.shape"
   ]
  },
  {
   "cell_type": "code",
   "execution_count": 21,
   "metadata": {},
   "outputs": [
    {
     "data": {
      "text/plain": [
       "TRACK_MODEL(\n",
       "  (pos_enc): LSTM(3, 256, batch_first=True)\n",
       "  (sal_enc): LSTM(115200, 256, batch_first=True)\n",
       "  (fuse_1_enc): LSTM(512, 256, batch_first=True)\n",
       "  (pos_dec): LSTM(3, 256, batch_first=True)\n",
       "  (sal_dec): LSTM(115200, 256, batch_first=True)\n",
       "  (fuse_1_dec): LSTM(512, 256, batch_first=True)\n",
       "  (fc_1): Linear(in_features=256, out_features=256, bias=True)\n",
       "  (fc_layer_out): Linear(in_features=256, out_features=3, bias=True)\n",
       "  (layer_norm_pos_enc): LayerNorm((256,), eps=1e-05, elementwise_affine=True)\n",
       "  (layer_norm_sal_enc): LayerNorm((256,), eps=1e-05, elementwise_affine=True)\n",
       "  (layer_norm_fuse_enc): LayerNorm((256,), eps=1e-05, elementwise_affine=True)\n",
       "  (layer_norm_pos_dec): LayerNorm((256,), eps=1e-05, elementwise_affine=True)\n",
       "  (layer_norm_sal_dec): LayerNorm((256,), eps=1e-05, elementwise_affine=True)\n",
       "  (layer_norm_fuse_dec): LayerNorm((256,), eps=1e-05, elementwise_affine=True)\n",
       ")"
      ]
     },
     "execution_count": 21,
     "metadata": {},
     "output_type": "execute_result"
    }
   ],
   "source": [
    "model,optimizer,criterion=TRACK_SAL.create_sal_model(M_WINDOW=M_WINDOW,H_WINDOW=H_WINDOW,\n",
    "                                                             NUM_TILES_HEIGHT=NUM_TILES_HEIGHT,\n",
    "                                                             NUM_TILES_WIDTH=NUM_TILES_WIDTH)\n",
    "model.to(device)"
   ]
  },
  {
   "cell_type": "code",
   "execution_count": 22,
   "metadata": {},
   "outputs": [
    {
     "name": "stderr",
     "output_type": "stream",
     "text": [
      "C:\\Users\\Varun\\AppData\\Local\\Temp\\ipykernel_25716\\1559639005.py:1: FutureWarning: You are using `torch.load` with `weights_only=False` (the current default value), which uses the default pickle module implicitly. It is possible to construct malicious pickle data which will execute arbitrary code during unpickling (See https://github.com/pytorch/pytorch/blob/main/SECURITY.md#untrusted-models for more details). In a future release, the default value for `weights_only` will be flipped to `True`. This limits the functions that could be executed during unpickling. Arbitrary objects will no longer be allowed to be loaded via this mode unless they are explicitly allowlisted by the user via `torch.serialization.add_safe_globals`. We recommend you start setting `weights_only=True` for any use case where you don't have full control of the loaded file. Please open an issue on GitHub for any issues related to this experimental feature.\n",
      "  b43=torch.load('SavedModels/Fan_NOSSDAV_17/TRACK__init_5_in_5_out_25_end_25_Epoch500/batch_nan_grads_43.pth')\n",
      "C:\\Users\\Varun\\AppData\\Local\\Temp\\ipykernel_25716\\1559639005.py:2: FutureWarning: You are using `torch.load` with `weights_only=False` (the current default value), which uses the default pickle module implicitly. It is possible to construct malicious pickle data which will execute arbitrary code during unpickling (See https://github.com/pytorch/pytorch/blob/main/SECURITY.md#untrusted-models for more details). In a future release, the default value for `weights_only` will be flipped to `True`. This limits the functions that could be executed during unpickling. Arbitrary objects will no longer be allowed to be loaded via this mode unless they are explicitly allowlisted by the user via `torch.serialization.add_safe_globals`. We recommend you start setting `weights_only=True` for any use case where you don't have full control of the loaded file. Please open an issue on GitHub for any issues related to this experimental feature.\n",
      "  b44=torch.load('SavedModels/Fan_NOSSDAV_17/TRACK__init_5_in_5_out_25_end_25_Epoch500/batch_nan_grads_44.pth')\n"
     ]
    }
   ],
   "source": [
    "b43=torch.load('SavedModels/Fan_NOSSDAV_17/TRACK__init_5_in_5_out_25_end_25_Epoch500/batch_nan_grads_43.pth')\n",
    "b44=torch.load('SavedModels/Fan_NOSSDAV_17/TRACK__init_5_in_5_out_25_end_25_Epoch500/batch_nan_grads_44.pth')"
   ]
  },
  {
   "cell_type": "code",
   "execution_count": 23,
   "metadata": {},
   "outputs": [
    {
     "data": {
      "text/plain": [
       "dict_keys(['model_state_dict', 'optimizer_state_dict', 'gradients', 'previous_gradients', 'encoder_pos_inputs', 'encoder_sal_inputs', 'decoder_pos_inputs', 'decoder_sal_inputs', 'prediction', 'targets', 'losses'])"
      ]
     },
     "execution_count": 23,
     "metadata": {},
     "output_type": "execute_result"
    }
   ],
   "source": [
    "b43.keys()"
   ]
  },
  {
   "cell_type": "code",
   "execution_count": 24,
   "metadata": {},
   "outputs": [
    {
     "data": {
      "text/plain": [
       "0.5584831237792969"
      ]
     },
     "execution_count": 24,
     "metadata": {},
     "output_type": "execute_result"
    }
   ],
   "source": [
    "b44['losses'][-1]"
   ]
  },
  {
   "cell_type": "code",
   "execution_count": 25,
   "metadata": {},
   "outputs": [
    {
     "data": {
      "image/png": "[encoded data removed]",
      "text/plain": [
       "<Figure size 1000x500 with 1 Axes>"
      ]
     },
     "metadata": {},
     "output_type": "display_data"
    }
   ],
   "source": [
    "losses=b44['losses']\n",
    "batches = range(1, len(losses) + 1)\n",
    "\n",
    "plt.figure(figsize=(10, 5))\n",
    "plt.plot(batches, losses, label='Training Loss', marker='o')\n",
    "\n",
    "\n",
    "# Adding labels, title, and legend\n",
    "plt.xlabel('Batch')\n",
    "plt.ylabel('Loss')\n",
    "plt.title('Training Loss over batches')\n",
    "plt.legend()\n",
    "plt.grid(True)"
   ]
  },
  {
   "cell_type": "code",
   "execution_count": 26,
   "metadata": {},
   "outputs": [],
   "source": [
    "def check_for_nans(model):\n",
    "    for name, param in model.named_parameters():\n",
    "        if torch.isnan(param).any():\n",
    "            print(f'NaN found in parameter {name}')\n",
    "            return True\n",
    "    return False"
   ]
  },
  {
   "cell_type": "code",
   "execution_count": 27,
   "metadata": {},
   "outputs": [
    {
     "data": {
      "text/plain": [
       "False"
      ]
     },
     "execution_count": 27,
     "metadata": {},
     "output_type": "execute_result"
    }
   ],
   "source": [
    "check_for_nans(model)"
   ]
  },
  {
   "cell_type": "code",
   "execution_count": null,
   "metadata": {},
   "outputs": [],
   "source": []
  },
  {
   "cell_type": "code",
   "execution_count": 30,
   "metadata": {},
   "outputs": [
    {
     "name": "stdout",
     "output_type": "stream",
     "text": [
      "Gradient norm for pos_enc.weight_ih_l0: 0.12100834399461746\n",
      "Gradient norm for pos_enc.weight_hh_l0: 0.029254022985696793\n",
      "Gradient norm for pos_enc.bias_ih_l0: 0.10697183758020401\n",
      "Gradient norm for pos_enc.bias_hh_l0: 0.10697183758020401\n",
      "Gradient norm for sal_enc.weight_ih_l0: 0.0\n",
      "Gradient norm for sal_enc.weight_hh_l0: 0.0\n",
      "Gradient norm for sal_enc.bias_ih_l0: 0.0\n",
      "Gradient norm for sal_enc.bias_hh_l0: 0.0\n",
      "Gradient norm for fuse_1_enc.weight_ih_l0: 0.11347339302301407\n",
      "Gradient norm for fuse_1_enc.weight_hh_l0: 0.022268163040280342\n",
      "Gradient norm for fuse_1_enc.bias_ih_l0: 0.004796087741851807\n",
      "Gradient norm for fuse_1_enc.bias_hh_l0: 0.004796087741851807\n",
      "Gradient norm for pos_dec.weight_ih_l0: 0.14936332404613495\n",
      "Gradient norm for pos_dec.weight_hh_l0: 0.014064413495361805\n",
      "Gradient norm for pos_dec.bias_ih_l0: 0.013957103714346886\n",
      "Gradient norm for pos_dec.bias_hh_l0: 0.013957103714346886\n",
      "Gradient norm for sal_dec.weight_ih_l0: 1.7573771771139945e-08\n",
      "Gradient norm for sal_dec.weight_hh_l0: 4.986435153675473e-10\n",
      "Gradient norm for sal_dec.bias_ih_l0: 5.779112605130976e-11\n",
      "Gradient norm for sal_dec.bias_hh_l0: 5.779112605130976e-11\n",
      "Gradient norm for fuse_1_dec.weight_ih_l0: 0.13796177506446838\n",
      "Gradient norm for fuse_1_dec.weight_hh_l0: 0.04655471444129944\n",
      "Gradient norm for fuse_1_dec.bias_ih_l0: 0.0062587750144302845\n",
      "Gradient norm for fuse_1_dec.bias_hh_l0: 0.0062587750144302845\n",
      "Gradient norm for fc_1.weight: 0.1392446756362915\n",
      "Gradient norm for fc_1.bias: 0.007192474324256182\n",
      "Gradient norm for fc_layer_out.weight: 0.12954629957675934\n",
      "Gradient norm for fc_layer_out.bias: 0.0052987015806138515\n",
      "Gradient norm for layer_norm_pos_enc.weight: 0.004214102402329445\n",
      "Gradient norm for layer_norm_pos_enc.bias: 0.0033524702303111553\n",
      "Gradient norm for layer_norm_sal_enc.weight: 0.0030640920158475637\n",
      "Gradient norm for layer_norm_sal_enc.bias: 0.002893384313210845\n",
      "Gradient norm for layer_norm_pos_dec.weight: 0.004498866852372885\n",
      "Gradient norm for layer_norm_pos_dec.bias: 0.0038183799479156733\n",
      "Gradient norm for layer_norm_sal_dec.weight: 0.003484660992398858\n",
      "Gradient norm for layer_norm_sal_dec.bias: 0.0034211596939712763\n",
      "Gradient norm for layer_norm_fuse_dec.weight: 0.010174947790801525\n",
      "Gradient norm for layer_norm_fuse_dec.bias: 0.007377242669463158\n"
     ]
    }
   ],
   "source": [
    "for key in b43['previous_gradients'].keys():\n",
    "    #print(b43['previous_gradients'][key])\n",
    "    grad_norm=torch.norm(b43['previous_gradients'][key])\n",
    "    print(f'Gradient norm for {key}: {grad_norm}')\n",
    "    \n",
    "    "
   ]
  },
  {
   "cell_type": "code",
   "execution_count": 35,
   "metadata": {},
   "outputs": [],
   "source": [
    "model.load_state_dict(b43['model_state_dict'])\n",
    "optimizer.load_state_dict(b43['optimizer_state_dict'])\n",
    "criterion=MetricOrthLoss"
   ]
  },
  {
   "cell_type": "code",
   "execution_count": 36,
   "metadata": {},
   "outputs": [
    {
     "data": {
      "text/plain": [
       "TRACK_MODEL(\n",
       "  (pos_enc): LSTM(3, 256, batch_first=True)\n",
       "  (sal_enc): LSTM(115200, 256, batch_first=True)\n",
       "  (fuse_1_enc): LSTM(512, 256, batch_first=True)\n",
       "  (pos_dec): LSTM(3, 256, batch_first=True)\n",
       "  (sal_dec): LSTM(115200, 256, batch_first=True)\n",
       "  (fuse_1_dec): LSTM(512, 256, batch_first=True)\n",
       "  (fc_1): Linear(in_features=256, out_features=256, bias=True)\n",
       "  (fc_layer_out): Linear(in_features=256, out_features=3, bias=True)\n",
       "  (layer_norm_pos_enc): LayerNorm((256,), eps=1e-05, elementwise_affine=True)\n",
       "  (layer_norm_sal_enc): LayerNorm((256,), eps=1e-05, elementwise_affine=True)\n",
       "  (layer_norm_fuse_enc): LayerNorm((256,), eps=1e-05, elementwise_affine=True)\n",
       "  (layer_norm_pos_dec): LayerNorm((256,), eps=1e-05, elementwise_affine=True)\n",
       "  (layer_norm_sal_dec): LayerNorm((256,), eps=1e-05, elementwise_affine=True)\n",
       "  (layer_norm_fuse_dec): LayerNorm((256,), eps=1e-05, elementwise_affine=True)\n",
       ")"
      ]
     },
     "execution_count": 36,
     "metadata": {},
     "output_type": "execute_result"
    }
   ],
   "source": [
    "model.train()"
   ]
  },
  {
   "cell_type": "code",
   "execution_count": 37,
   "metadata": {},
   "outputs": [],
   "source": [
    "encoder_pos_inputs,encoder_sal_inputs,decoder_pos_inputs,decoder_sal_inputs=b43['encoder_pos_inputs'],b43['encoder_sal_inputs'],b43['decoder_pos_inputs'],b43['decoder_sal_inputs']"
   ]
  },
  {
   "cell_type": "code",
   "execution_count": 38,
   "metadata": {},
   "outputs": [],
   "source": [
    "while True:\n",
    "    batch_size = encoder_pos_inputs.size(0)\n",
    "    out_enc_pos, (h_n_pos,c_n_pos)= model.pos_enc(encoder_pos_inputs)\n",
    "    break\n",
    "    out_enc_pos = model.layer_norm_pos_enc(out_enc_pos)\n",
    "    flat_enc_sal_inputs = encoder_sal_inputs.view(batch_size, model.input_window, -1)\n",
    "    out_enc_sal, (h_n_sal,c_n_sal) = model.sal_enc(flat_enc_sal_inputs)\n",
    "    out_enc_sal = model.layer_norm_sal_enc(out_enc_sal)\n",
    "    # Concatenate encoder outputs\n",
    "        #with torch.autograd.detect_anomaly():\n",
    "    conc_out_enc = torch.cat([out_enc_sal, out_enc_pos], dim=-1)\n",
    "    fuse_out_enc, (h_n_fuse,c_n_fuse) = model.fuse_1_enc(conc_out_enc)\n",
    "    fuse_out_enc = model.layer_norm_fuse_enc(fuse_out_enc)\n",
    "\n",
    "    dec_input = decoder_pos_inputs\n",
    "    all_pos_outputs = []\n",
    "    for t in range(model.output_horizon):\n",
    "            \n",
    "            # Decode pos at timestep\n",
    "        dec_pos_out, (h_n_pos,c_n_pos)= model.pos_dec(dec_input,(h_n_pos,c_n_pos))\n",
    "        dec_pos_out = model.layer_norm_pos_dec(dec_pos_out)\n",
    "        #dec_pos_out = model.dropout(dec_pos_out)\n",
    "\n",
    "            \n",
    "            # Decode saliency at current timestep\n",
    "        selected_timestep_saliency = decoder_sal_inputs[:, t:t + 1].view(batch_size, 1, -1) \n",
    "        dec_sal_out, (h_n_sal,c_n_sal) = model.sal_dec(selected_timestep_saliency, (h_n_sal,c_n_sal))\n",
    "        dec_sal_out = model.layer_norm_sal_dec(dec_sal_out)\n",
    "\n",
    "            \n",
    "            # Decode concatenated values\n",
    "            #with torch.autograd.detect_anomaly():\n",
    "        dec_out = torch.cat((dec_sal_out, dec_pos_out), dim=-1)\n",
    "        fuse_out_dec_1, (h_n_fuse, c_n_fuse) = model.fuse_1_dec(dec_out, (h_n_fuse, c_n_fuse))\n",
    "        fuse_out_dec_1 = model.layer_norm_fuse_dec(fuse_out_dec_1)\n",
    "            #fuse_out_dec_1 = model.dropout(fuse_out_dec_1)\n",
    "\n",
    "            \n",
    "            # FC layers\n",
    "        dec_fuse_out = model.fc_1(fuse_out_dec_1)\n",
    "\n",
    "            #dec_fuse_out = model.dropout(dec_fuse_out)\n",
    "        outputs_delta = model.fc_layer_out(dec_fuse_out)\n",
    "            # Apply toposition\n",
    "        decoder_pred=toPosition([dec_input,outputs_delta])\n",
    "\n",
    "        all_pos_outputs.append(decoder_pred)\n",
    "        dec_input=decoder_pred\n",
    "        #with torch.autograd.detect_anomaly():    \n",
    "    decoder_outputs_pos=torch.cat(all_pos_outputs,dim=1)\n",
    "    break"
   ]
  },
  {
   "cell_type": "code",
   "execution_count": 42,
   "metadata": {},
   "outputs": [
    {
     "data": {
      "text/plain": [
       "tensor(False, device='cuda:0')"
      ]
     },
     "execution_count": 42,
     "metadata": {},
     "output_type": "execute_result"
    }
   ],
   "source": [
    "torch.isnan(c_n_pos).any()"
   ]
  },
  {
   "cell_type": "code",
   "execution_count": 38,
   "metadata": {},
   "outputs": [
    {
     "name": "stdout",
     "output_type": "stream",
     "text": [
      "tensor([[[-1.7454e+01,  3.1592e-01, -4.1519e-01],\n",
      "         [-3.6089e+01,  6.5194e-01, -1.3143e+00],\n",
      "         [-5.5299e+01,  1.1120e+00, -2.3568e+00],\n",
      "         ...,\n",
      "         [-4.5233e+02,  5.4024e+00, -2.1298e+01],\n",
      "         [-4.7183e+02,  4.9900e+00, -2.2338e+01],\n",
      "         [-4.9127e+02,  4.5295e+00, -2.3369e+01]],\n",
      "\n",
      "        [[-1.6106e+01, -6.5205e+00,  7.2194e-01],\n",
      "         [-3.3320e+01, -1.2584e+01,  1.1741e+00],\n",
      "         [-5.1135e+01, -1.8260e+01,  1.4151e+00],\n",
      "         ...,\n",
      "         [-4.3470e+02, -7.8728e+01,  9.2826e+00],\n",
      "         [-4.5310e+02, -8.1394e+01,  9.6298e+00],\n",
      "         [-4.7143e+02, -8.4103e+01,  9.9649e+00]],\n",
      "\n",
      "        [[-9.8902e+00, -1.3544e+01,  1.1224e+00],\n",
      "         [-1.9961e+01, -2.7407e+01,  2.3244e+00],\n",
      "         [-3.0118e+01, -4.1147e+01,  3.3868e+00],\n",
      "         ...,\n",
      "         [-2.7941e+02, -2.1958e+02,  1.5954e+01],\n",
      "         [-2.9314e+02, -2.2564e+02,  1.6334e+01],\n",
      "         [-3.0697e+02, -2.3147e+02,  1.6656e+01]],\n",
      "\n",
      "        ...,\n",
      "\n",
      "        [[-2.5522e+00,  1.4560e+01, -1.6941e+00],\n",
      "         [-7.3449e+00,  2.9293e+01, -3.2423e+00],\n",
      "         [-1.4144e+01,  4.3604e+01, -4.7326e+00],\n",
      "         ...,\n",
      "         [-3.5791e+02,  1.2291e+02, -1.7445e+01],\n",
      "         [-3.7745e+02,  1.2253e+02, -1.8112e+01],\n",
      "         [-3.9700e+02,  1.2202e+02, -1.8747e+01]],\n",
      "\n",
      "        [[-1.7365e+01,  1.2279e+00, -6.1250e-01],\n",
      "         [-3.6084e+01,  2.3977e+00, -1.5045e+00],\n",
      "         [-5.5376e+01,  3.5559e+00, -2.4980e+00],\n",
      "         ...,\n",
      "         [-4.5440e+02,  1.2174e+01, -1.9819e+01],\n",
      "         [-4.7405e+02,  1.1957e+01, -2.0782e+01],\n",
      "         [-4.9365e+02,  1.1690e+01, -2.1740e+01]],\n",
      "\n",
      "        [[-1.6776e+01,  2.3202e+00,  2.0643e+00],\n",
      "         [-3.5378e+01,  4.7771e+00,  3.6843e+00],\n",
      "         [-5.4796e+01,  7.0767e+00,  5.0436e+00],\n",
      "         ...,\n",
      "         [-4.6166e+02,  2.5444e+01,  2.1583e+01],\n",
      "         [-4.8189e+02,  2.5587e+01,  2.2455e+01],\n",
      "         [-5.0207e+02,  2.5649e+01,  2.3320e+01]]], device='cuda:0',\n",
      "       grad_fn=<CatBackward0>)\n"
     ]
    }
   ],
   "source": [
    "print(decoder_outputs_pos)"
   ]
  },
  {
   "cell_type": "code",
   "execution_count": 33,
   "metadata": {},
   "outputs": [
    {
     "data": {
      "text/plain": [
       "torch.Size([128, 25, 3])"
      ]
     },
     "execution_count": 33,
     "metadata": {},
     "output_type": "execute_result"
    }
   ],
   "source": [
    "b43['targets'].shape"
   ]
  },
  {
   "cell_type": "code",
   "execution_count": 32,
   "metadata": {},
   "outputs": [
    {
     "name": "stderr",
     "output_type": "stream",
     "text": [
      "C:\\Users\\Varun\\AppData\\Local\\Temp\\ipykernel_23572\\4244610133.py:2: UserWarning: Anomaly Detection has been enabled. This mode will increase the runtime and should only be enabled for debugging.\n",
      "  with torch.autograd.detect_anomaly(check_nan=True):\n",
      "c:\\Users\\Varun\\Desktop\\Projects\\Thesis\\XR-pipeline\\.venv\\Lib\\site-packages\\torch\\autograd\\__init__.py:266: UserWarning: Error detected in CatBackward0. Traceback of forward call that caused the error:\n",
      "  File \"<frozen runpy>\", line 198, in _run_module_as_main\n",
      "  File \"<frozen runpy>\", line 88, in _run_code\n",
      "  File \"c:\\Users\\Varun\\Desktop\\Projects\\Thesis\\XR-pipeline\\.venv\\Lib\\site-packages\\ipykernel_launcher.py\", line 18, in <module>\n",
      "    app.launch_new_instance()\n",
      "  File \"c:\\Users\\Varun\\Desktop\\Projects\\Thesis\\XR-pipeline\\.venv\\Lib\\site-packages\\traitlets\\config\\application.py\", line 1075, in launch_instance\n",
      "    app.start()\n",
      "  File \"c:\\Users\\Varun\\Desktop\\Projects\\Thesis\\XR-pipeline\\.venv\\Lib\\site-packages\\ipykernel\\kernelapp.py\", line 739, in start\n",
      "    self.io_loop.start()\n",
      "  File \"c:\\Users\\Varun\\Desktop\\Projects\\Thesis\\XR-pipeline\\.venv\\Lib\\site-packages\\tornado\\platform\\asyncio.py\", line 205, in start\n",
      "    self.asyncio_loop.run_forever()\n",
      "  File \"C:\\Users\\Varun\\AppData\\Local\\Programs\\Python\\Python311\\Lib\\asyncio\\base_events.py\", line 607, in run_forever\n",
      "    self._run_once()\n",
      "  File \"C:\\Users\\Varun\\AppData\\Local\\Programs\\Python\\Python311\\Lib\\asyncio\\base_events.py\", line 1922, in _run_once\n",
      "    handle._run()\n",
      "  File \"C:\\Users\\Varun\\AppData\\Local\\Programs\\Python\\Python311\\Lib\\asyncio\\events.py\", line 80, in _run\n",
      "    self._context.run(self._callback, *self._args)\n",
      "  File \"c:\\Users\\Varun\\Desktop\\Projects\\Thesis\\XR-pipeline\\.venv\\Lib\\site-packages\\ipykernel\\kernelbase.py\", line 545, in dispatch_queue\n",
      "    await self.process_one()\n",
      "  File \"c:\\Users\\Varun\\Desktop\\Projects\\Thesis\\XR-pipeline\\.venv\\Lib\\site-packages\\ipykernel\\kernelbase.py\", line 534, in process_one\n",
      "    await dispatch(*args)\n",
      "  File \"c:\\Users\\Varun\\Desktop\\Projects\\Thesis\\XR-pipeline\\.venv\\Lib\\site-packages\\ipykernel\\kernelbase.py\", line 437, in dispatch_shell\n",
      "    await result\n",
      "  File \"c:\\Users\\Varun\\Desktop\\Projects\\Thesis\\XR-pipeline\\.venv\\Lib\\site-packages\\ipykernel\\ipkernel.py\", line 362, in execute_request\n",
      "    await super().execute_request(stream, ident, parent)\n",
      "  File \"c:\\Users\\Varun\\Desktop\\Projects\\Thesis\\XR-pipeline\\.venv\\Lib\\site-packages\\ipykernel\\kernelbase.py\", line 778, in execute_request\n",
      "    reply_content = await reply_content\n",
      "  File \"c:\\Users\\Varun\\Desktop\\Projects\\Thesis\\XR-pipeline\\.venv\\Lib\\site-packages\\ipykernel\\ipkernel.py\", line 449, in do_execute\n",
      "    res = shell.run_cell(\n",
      "  File \"c:\\Users\\Varun\\Desktop\\Projects\\Thesis\\XR-pipeline\\.venv\\Lib\\site-packages\\ipykernel\\zmqshell.py\", line 549, in run_cell\n",
      "    return super().run_cell(*args, **kwargs)\n",
      "  File \"c:\\Users\\Varun\\Desktop\\Projects\\Thesis\\XR-pipeline\\.venv\\Lib\\site-packages\\IPython\\core\\interactiveshell.py\", line 3075, in run_cell\n",
      "    result = self._run_cell(\n",
      "  File \"c:\\Users\\Varun\\Desktop\\Projects\\Thesis\\XR-pipeline\\.venv\\Lib\\site-packages\\IPython\\core\\interactiveshell.py\", line 3130, in _run_cell\n",
      "    result = runner(coro)\n",
      "  File \"c:\\Users\\Varun\\Desktop\\Projects\\Thesis\\XR-pipeline\\.venv\\Lib\\site-packages\\IPython\\core\\async_helpers.py\", line 129, in _pseudo_sync_runner\n",
      "    coro.send(None)\n",
      "  File \"c:\\Users\\Varun\\Desktop\\Projects\\Thesis\\XR-pipeline\\.venv\\Lib\\site-packages\\IPython\\core\\interactiveshell.py\", line 3334, in run_cell_async\n",
      "    has_raised = await self.run_ast_nodes(code_ast.body, cell_name,\n",
      "  File \"c:\\Users\\Varun\\Desktop\\Projects\\Thesis\\XR-pipeline\\.venv\\Lib\\site-packages\\IPython\\core\\interactiveshell.py\", line 3517, in run_ast_nodes\n",
      "    if await self.run_code(code, result, async_=asy):\n",
      "  File \"c:\\Users\\Varun\\Desktop\\Projects\\Thesis\\XR-pipeline\\.venv\\Lib\\site-packages\\IPython\\core\\interactiveshell.py\", line 3577, in run_code\n",
      "    exec(code_obj, self.user_global_ns, self.user_ns)\n",
      "  File \"C:\\Users\\Varun\\AppData\\Local\\Temp\\ipykernel_23572\\4244610133.py\", line 3, in <module>\n",
      "    prediction=model(b143['encoder_pos_inputs'],b143['encoder_sal_inputs'],b143['decoder_pos_inputs'],b143['decoder_sal_inputs'])\n",
      "  File \"c:\\Users\\Varun\\Desktop\\Projects\\Thesis\\XR-pipeline\\.venv\\Lib\\site-packages\\torch\\nn\\modules\\module.py\", line 1511, in _wrapped_call_impl\n",
      "    return self._call_impl(*args, **kwargs)\n",
      "  File \"c:\\Users\\Varun\\Desktop\\Projects\\Thesis\\XR-pipeline\\.venv\\Lib\\site-packages\\torch\\nn\\modules\\module.py\", line 1520, in _call_impl\n",
      "    return forward_call(*args, **kwargs)\n",
      "  File \"c:\\Users\\Varun\\Desktop\\Projects\\Thesis\\XR-pipeline\\TRACK_SAL.py\", line 130, in forward\n",
      "    decoder_outputs_pos=torch.cat(all_pos_outputs,dim=1)\n",
      " (Triggered internally at ..\\torch\\csrc\\autograd\\python_anomaly_mode.cpp:118.)\n",
      "  Variable._execution_engine.run_backward(  # Calls into the C++ engine to run the backward pass\n"
     ]
    },
    {
     "ename": "RuntimeError",
     "evalue": "Function 'CatBackward0' returned nan values in its 3th output.",
     "output_type": "error",
     "traceback": [
      "\u001b[1;31m---------------------------------------------------------------------------\u001b[0m",
      "\u001b[1;31mRuntimeError\u001b[0m                              Traceback (most recent call last)",
      "Cell \u001b[1;32mIn[32], line 5\u001b[0m\n\u001b[0;32m      3\u001b[0m prediction\u001b[38;5;241m=\u001b[39mmodel(b143[\u001b[38;5;124m'\u001b[39m\u001b[38;5;124mencoder_pos_inputs\u001b[39m\u001b[38;5;124m'\u001b[39m],b143[\u001b[38;5;124m'\u001b[39m\u001b[38;5;124mencoder_sal_inputs\u001b[39m\u001b[38;5;124m'\u001b[39m],b143[\u001b[38;5;124m'\u001b[39m\u001b[38;5;124mdecoder_pos_inputs\u001b[39m\u001b[38;5;124m'\u001b[39m],b143[\u001b[38;5;124m'\u001b[39m\u001b[38;5;124mdecoder_sal_inputs\u001b[39m\u001b[38;5;124m'\u001b[39m])\n\u001b[0;32m      4\u001b[0m loss\u001b[38;5;241m=\u001b[39mcriterion(prediction,b143[\u001b[38;5;124m'\u001b[39m\u001b[38;5;124mtargets\u001b[39m\u001b[38;5;124m'\u001b[39m]\u001b[38;5;241m.\u001b[39mto(device))\n\u001b[1;32m----> 5\u001b[0m \u001b[43mloss\u001b[49m\u001b[38;5;241;43m.\u001b[39;49m\u001b[43mbackward\u001b[49m\u001b[43m(\u001b[49m\u001b[43m)\u001b[49m\n\u001b[0;32m      6\u001b[0m torch\u001b[38;5;241m.\u001b[39mnn\u001b[38;5;241m.\u001b[39mutils\u001b[38;5;241m.\u001b[39mclip_grad_norm_(model\u001b[38;5;241m.\u001b[39mparameters(), max_norm\u001b[38;5;241m=\u001b[39m\u001b[38;5;241m1.0\u001b[39m)\n",
      "File \u001b[1;32mc:\\Users\\Varun\\Desktop\\Projects\\Thesis\\XR-pipeline\\.venv\\Lib\\site-packages\\torch\\_tensor.py:522\u001b[0m, in \u001b[0;36mTensor.backward\u001b[1;34m(self, gradient, retain_graph, create_graph, inputs)\u001b[0m\n\u001b[0;32m    512\u001b[0m \u001b[38;5;28;01mif\u001b[39;00m has_torch_function_unary(\u001b[38;5;28mself\u001b[39m):\n\u001b[0;32m    513\u001b[0m     \u001b[38;5;28;01mreturn\u001b[39;00m handle_torch_function(\n\u001b[0;32m    514\u001b[0m         Tensor\u001b[38;5;241m.\u001b[39mbackward,\n\u001b[0;32m    515\u001b[0m         (\u001b[38;5;28mself\u001b[39m,),\n\u001b[1;32m   (...)\u001b[0m\n\u001b[0;32m    520\u001b[0m         inputs\u001b[38;5;241m=\u001b[39minputs,\n\u001b[0;32m    521\u001b[0m     )\n\u001b[1;32m--> 522\u001b[0m \u001b[43mtorch\u001b[49m\u001b[38;5;241;43m.\u001b[39;49m\u001b[43mautograd\u001b[49m\u001b[38;5;241;43m.\u001b[39;49m\u001b[43mbackward\u001b[49m\u001b[43m(\u001b[49m\n\u001b[0;32m    523\u001b[0m \u001b[43m    \u001b[49m\u001b[38;5;28;43mself\u001b[39;49m\u001b[43m,\u001b[49m\u001b[43m \u001b[49m\u001b[43mgradient\u001b[49m\u001b[43m,\u001b[49m\u001b[43m \u001b[49m\u001b[43mretain_graph\u001b[49m\u001b[43m,\u001b[49m\u001b[43m \u001b[49m\u001b[43mcreate_graph\u001b[49m\u001b[43m,\u001b[49m\u001b[43m \u001b[49m\u001b[43minputs\u001b[49m\u001b[38;5;241;43m=\u001b[39;49m\u001b[43minputs\u001b[49m\n\u001b[0;32m    524\u001b[0m \u001b[43m\u001b[49m\u001b[43m)\u001b[49m\n",
      "File \u001b[1;32mc:\\Users\\Varun\\Desktop\\Projects\\Thesis\\XR-pipeline\\.venv\\Lib\\site-packages\\torch\\autograd\\__init__.py:266\u001b[0m, in \u001b[0;36mbackward\u001b[1;34m(tensors, grad_tensors, retain_graph, create_graph, grad_variables, inputs)\u001b[0m\n\u001b[0;32m    261\u001b[0m     retain_graph \u001b[38;5;241m=\u001b[39m create_graph\n\u001b[0;32m    263\u001b[0m \u001b[38;5;66;03m# The reason we repeat the same comment below is that\u001b[39;00m\n\u001b[0;32m    264\u001b[0m \u001b[38;5;66;03m# some Python versions print out the first line of a multi-line function\u001b[39;00m\n\u001b[0;32m    265\u001b[0m \u001b[38;5;66;03m# calls in the traceback and some print out the last line\u001b[39;00m\n\u001b[1;32m--> 266\u001b[0m \u001b[43mVariable\u001b[49m\u001b[38;5;241;43m.\u001b[39;49m\u001b[43m_execution_engine\u001b[49m\u001b[38;5;241;43m.\u001b[39;49m\u001b[43mrun_backward\u001b[49m\u001b[43m(\u001b[49m\u001b[43m  \u001b[49m\u001b[38;5;66;43;03m# Calls into the C++ engine to run the backward pass\u001b[39;49;00m\n\u001b[0;32m    267\u001b[0m \u001b[43m    \u001b[49m\u001b[43mtensors\u001b[49m\u001b[43m,\u001b[49m\n\u001b[0;32m    268\u001b[0m \u001b[43m    \u001b[49m\u001b[43mgrad_tensors_\u001b[49m\u001b[43m,\u001b[49m\n\u001b[0;32m    269\u001b[0m \u001b[43m    \u001b[49m\u001b[43mretain_graph\u001b[49m\u001b[43m,\u001b[49m\n\u001b[0;32m    270\u001b[0m \u001b[43m    \u001b[49m\u001b[43mcreate_graph\u001b[49m\u001b[43m,\u001b[49m\n\u001b[0;32m    271\u001b[0m \u001b[43m    \u001b[49m\u001b[43minputs\u001b[49m\u001b[43m,\u001b[49m\n\u001b[0;32m    272\u001b[0m \u001b[43m    \u001b[49m\u001b[43mallow_unreachable\u001b[49m\u001b[38;5;241;43m=\u001b[39;49m\u001b[38;5;28;43;01mTrue\u001b[39;49;00m\u001b[43m,\u001b[49m\n\u001b[0;32m    273\u001b[0m \u001b[43m    \u001b[49m\u001b[43maccumulate_grad\u001b[49m\u001b[38;5;241;43m=\u001b[39;49m\u001b[38;5;28;43;01mTrue\u001b[39;49;00m\u001b[43m,\u001b[49m\n\u001b[0;32m    274\u001b[0m \u001b[43m\u001b[49m\u001b[43m)\u001b[49m\n",
      "\u001b[1;31mRuntimeError\u001b[0m: Function 'CatBackward0' returned nan values in its 3th output."
     ]
    }
   ],
   "source": [
    "\n",
    "optimizer.zero_grad()\n",
    "with torch.autograd.detect_anomaly(check_nan=True):\n",
    "    prediction=model(b43['encoder_pos_inputs'],b43['encoder_sal_inputs'],b43['decoder_pos_inputs'],b43['decoder_sal_inputs'])\n",
    "    loss=criterion(prediction,b43['targets'].to(device))\n",
    "    loss.backward()\n",
    "    torch.nn.utils.clip_grad_norm_(model.parameters(), max_norm=1.0)"
   ]
  },
  {
   "cell_type": "code",
   "execution_count": 27,
   "metadata": {},
   "outputs": [],
   "source": [
    "loss=criterion(prediction,b43['targets'].to(device))"
   ]
  },
  {
   "cell_type": "code",
   "execution_count": 37,
   "metadata": {},
   "outputs": [
    {
     "data": {
      "text/plain": [
       "tensor(False, device='cuda:0')"
      ]
     },
     "execution_count": 37,
     "metadata": {},
     "output_type": "execute_result"
    }
   ],
   "source": [
    "torch.isnan(prediction).any()"
   ]
  },
  {
   "cell_type": "code",
   "execution_count": 28,
   "metadata": {},
   "outputs": [
    {
     "data": {
      "text/plain": [
       "tensor(0.4881, device='cuda:0', grad_fn=<MeanBackward0>)"
      ]
     },
     "execution_count": 28,
     "metadata": {},
     "output_type": "execute_result"
    }
   ],
   "source": [
    "loss"
   ]
  },
  {
   "cell_type": "code",
   "execution_count": 33,
   "metadata": {},
   "outputs": [
    {
     "data": {
      "text/plain": [
       "tensor(0.)"
      ]
     },
     "execution_count": 33,
     "metadata": {},
     "output_type": "execute_result"
    }
   ],
   "source": [
    "\n",
    "# Inspect gradients\n",
    "for name, param in model.named_parameters():\n",
    "    if param.grad is not None:\n",
    "        print(f'Gradient norm for {name}: {param.grad.norm()}')\n",
    "torch.nn.utils.clip_grad_norm_(model.parameters(), max_norm=1.0)"
   ]
  },
  {
   "cell_type": "code",
   "execution_count": 77,
   "metadata": {},
   "outputs": [
    {
     "data": {
      "text/plain": [
       "TRACK_MODEL(\n",
       "  (pos_enc): LSTM(3, 256, batch_first=True)\n",
       "  (sal_enc): LSTM(115200, 256, batch_first=True)\n",
       "  (fuse_1_enc): LSTM(512, 256, batch_first=True)\n",
       "  (pos_dec): LSTM(3, 256, batch_first=True)\n",
       "  (sal_dec): LSTM(115200, 256, batch_first=True)\n",
       "  (fuse_1_dec): LSTM(512, 256, batch_first=True)\n",
       "  (fc_1): Linear(in_features=256, out_features=256, bias=True)\n",
       "  (fc_layer_out): Linear(in_features=256, out_features=3, bias=True)\n",
       ")"
      ]
     },
     "execution_count": 77,
     "metadata": {},
     "output_type": "execute_result"
    }
   ],
   "source": []
  },
  {
   "cell_type": "code",
   "execution_count": null,
   "metadata": {},
   "outputs": [],
   "source": [
    "# Backward pass: compute gradients\n",
    "loss.backward()\n",
    "\n",
    "# Optionally clip gradients\n",
    "torch.nn.utils.clip_grad_norm_(model.parameters(), max_norm=1.0)"
   ]
  },
  {
   "cell_type": "code",
   "execution_count": 66,
   "metadata": {},
   "outputs": [],
   "source": [
    "if torch.isnan(prediction).any():\n",
    "    print(\"hi\")"
   ]
  },
  {
   "cell_type": "code",
   "execution_count": 53,
   "metadata": {},
   "outputs": [],
   "source": [
    "from torchview import draw_graph"
   ]
  },
  {
   "cell_type": "code",
   "execution_count": null,
   "metadata": {},
   "outputs": [],
   "source": [
    "input_list"
   ]
  },
  {
   "cell_type": "code",
   "execution_count": 56,
   "metadata": {},
   "outputs": [],
   "source": [
    "model_graph=draw_graph(model,input_size=ip_sizes)"
   ]
  },
  {
   "cell_type": "code",
   "execution_count": 68,
   "metadata": {},
   "outputs": [
    {
     "data": {
      "text/plain": [
       "[torch.Size([16, 2, 3]),\n",
       " torch.Size([16, 2, 240, 480]),\n",
       " torch.Size([16, 1, 3]),\n",
       " torch.Size([16, 2, 240, 480])]"
      ]
     },
     "execution_count": 68,
     "metadata": {},
     "output_type": "execute_result"
    }
   ],
   "source": [
    "ip_sizes"
   ]
  },
  {
   "cell_type": "code",
   "execution_count": null,
   "metadata": {},
   "outputs": [],
   "source": [
    "#encoder_pos_inputs,encoder_sal_inputs,decoder_pos_inputs,decoder_sal_inputs"
   ]
  },
  {
   "cell_type": "code",
   "execution_count": 57,
   "metadata": {},
   "outputs": [
    {
     "name": "stderr",
     "output_type": "stream",
     "text": [
      "\n",
      "(dot.exe:22432): Pango-WARNING **: couldn't load font \"Linux libertine Not-Rotated 10\", falling back to \"Sans Not-Rotated 10\", expect ugly output.\n"
     ]
    },
    {
     "data": {
      "image/svg+xml": [
       "<?xml version=\"1.0\" encoding=\"UTF-8\" standalone=\"no\"?>\n",
       "<!DOCTYPE svg PUBLIC \"-//W3C//DTD SVG 1.1//EN\"\n",
       " \"http://www.w3.org/Graphics/SVG/1.1/DTD/svg11.dtd\">\n",
       "<!-- Generated by graphviz version 12.0.0 (20240704.0754)\n",
       " -->\n",
       "<!-- Title: model Pages: 1 -->\n",
       "<svg width=\"1001pt\" height=\"1392pt\"\n",
       " viewBox=\"0.00 0.00 1000.62 1391.50\" xmlns=\"http://www.w3.org/2000/svg\" xmlns:xlink=\"http://www.w3.org/1999/xlink\">\n",
       "<g id=\"graph0\" class=\"graph\" transform=\"scale(1 1) rotate(0) translate(4 1387.5)\">\n",
       "<title>model</title>\n",
       "<polygon fill=\"white\" stroke=\"none\" points=\"-4,4 -4,-1387.5 996.62,-1387.5 996.62,4 -4,4\"/>\n",
       "<!-- 0 -->\n",
       "<g id=\"node1\" class=\"node\">\n",
       "<title>0</title>\n",
       "<polygon fill=\"lightyellow\" stroke=\"none\" points=\"297.25,-1307.5 185,-1307.5 185,-1273.5 297.25,-1273.5 297.25,-1307.5\"/>\n",
       "<polygon fill=\"none\" stroke=\"black\" points=\"185,-1273.5 185,-1307.5 246.75,-1307.5 246.75,-1273.5 185,-1273.5\"/>\n",
       "<text text-anchor=\"start\" x=\"190\" y=\"-1293\" font-family=\"Linux libertine\" font-size=\"10.00\">input&#45;tensor</text>\n",
       "<text text-anchor=\"start\" x=\"199.38\" y=\"-1281\" font-family=\"Linux libertine\" font-size=\"10.00\">depth:0</text>\n",
       "<polygon fill=\"none\" stroke=\"black\" points=\"246.75,-1273.5 246.75,-1307.5 297.25,-1307.5 297.25,-1273.5 246.75,-1273.5\"/>\n",
       "<text text-anchor=\"start\" x=\"251.75\" y=\"-1287\" font-family=\"Linux libertine\" font-size=\"10.00\">(16, 2, 3)</text>\n",
       "</g>\n",
       "<!-- 4 -->\n",
       "<g id=\"node5\" class=\"node\">\n",
       "<title>4</title>\n",
       "<polygon fill=\"#c1ffc1\" stroke=\"none\" points=\"352.12,-1231.5 130.12,-1231.5 130.12,-1187.5 352.12,-1187.5 352.12,-1231.5\"/>\n",
       "<polygon fill=\"none\" stroke=\"black\" points=\"130.12,-1187.5 130.12,-1231.5 173.12,-1231.5 173.12,-1187.5 130.12,-1187.5\"/>\n",
       "<text text-anchor=\"start\" x=\"139.62\" y=\"-1212\" font-family=\"Linux libertine\" font-size=\"10.00\">LSTM</text>\n",
       "<text text-anchor=\"start\" x=\"135.12\" y=\"-1200\" font-family=\"Linux libertine\" font-size=\"10.00\">depth:1</text>\n",
       "<polygon fill=\"none\" stroke=\"black\" points=\"173.12,-1209.5 173.12,-1231.5 216.12,-1231.5 216.12,-1209.5 173.12,-1209.5\"/>\n",
       "<text text-anchor=\"start\" x=\"182.25\" y=\"-1217\" font-family=\"Linux libertine\" font-size=\"10.00\">input:</text>\n",
       "<polygon fill=\"none\" stroke=\"black\" points=\"216.12,-1209.5 216.12,-1231.5 352.12,-1231.5 352.12,-1209.5 216.12,-1209.5\"/>\n",
       "<text text-anchor=\"start\" x=\"262.38\" y=\"-1217\" font-family=\"Linux libertine\" font-size=\"10.00\">(16, 2, 3) </text>\n",
       "<polygon fill=\"none\" stroke=\"black\" points=\"173.12,-1187.5 173.12,-1209.5 216.12,-1209.5 216.12,-1187.5 173.12,-1187.5\"/>\n",
       "<text text-anchor=\"start\" x=\"177.75\" y=\"-1195\" font-family=\"Linux libertine\" font-size=\"10.00\">output: </text>\n",
       "<polygon fill=\"none\" stroke=\"black\" points=\"216.12,-1187.5 216.12,-1209.5 352.12,-1209.5 352.12,-1187.5 216.12,-1187.5\"/>\n",
       "<text text-anchor=\"start\" x=\"220.75\" y=\"-1195\" font-family=\"Linux libertine\" font-size=\"10.00\">(16, 2, 256), 2 x (1, 16, 256) </text>\n",
       "</g>\n",
       "<!-- 0&#45;&gt;4 -->\n",
       "<g id=\"edge1\" class=\"edge\">\n",
       "<title>0&#45;&gt;4</title>\n",
       "<path fill=\"none\" stroke=\"black\" d=\"M241.12,-1273.51C241.12,-1264.67 241.12,-1253.35 241.12,-1242.75\"/>\n",
       "<polygon fill=\"black\" stroke=\"black\" points=\"244.63,-1242.78 241.13,-1232.78 237.63,-1242.78 244.63,-1242.78\"/>\n",
       "</g>\n",
       "<!-- 1 -->\n",
       "<g id=\"node2\" class=\"node\">\n",
       "<title>1</title>\n",
       "<polygon fill=\"lightyellow\" stroke=\"none\" points=\"553.38,-1383.5 408.88,-1383.5 408.88,-1349.5 553.38,-1349.5 553.38,-1383.5\"/>\n",
       "<polygon fill=\"none\" stroke=\"black\" points=\"408.88,-1349.5 408.88,-1383.5 470.62,-1383.5 470.62,-1349.5 408.88,-1349.5\"/>\n",
       "<text text-anchor=\"start\" x=\"413.88\" y=\"-1369\" font-family=\"Linux libertine\" font-size=\"10.00\">input&#45;tensor</text>\n",
       "<text text-anchor=\"start\" x=\"423.25\" y=\"-1357\" font-family=\"Linux libertine\" font-size=\"10.00\">depth:0</text>\n",
       "<polygon fill=\"none\" stroke=\"black\" points=\"470.62,-1349.5 470.62,-1383.5 553.38,-1383.5 553.38,-1349.5 470.62,-1349.5\"/>\n",
       "<text text-anchor=\"start\" x=\"475.62\" y=\"-1363\" font-family=\"Linux libertine\" font-size=\"10.00\">(16, 2, 240, 480)</text>\n",
       "</g>\n",
       "<!-- 5 -->\n",
       "<g id=\"node6\" class=\"node\">\n",
       "<title>5</title>\n",
       "<polygon fill=\"aliceblue\" stroke=\"none\" points=\"566.62,-1312.5 395.62,-1312.5 395.62,-1268.5 566.62,-1268.5 566.62,-1312.5\"/>\n",
       "<polygon fill=\"none\" stroke=\"black\" points=\"395.62,-1268.5 395.62,-1312.5 438.62,-1312.5 438.62,-1268.5 395.62,-1268.5\"/>\n",
       "<text text-anchor=\"start\" x=\"407.38\" y=\"-1293\" font-family=\"Linux libertine\" font-size=\"10.00\">view</text>\n",
       "<text text-anchor=\"start\" x=\"400.62\" y=\"-1281\" font-family=\"Linux libertine\" font-size=\"10.00\">depth:1</text>\n",
       "<polygon fill=\"none\" stroke=\"black\" points=\"438.62,-1290.5 438.62,-1312.5 481.62,-1312.5 481.62,-1290.5 438.62,-1290.5\"/>\n",
       "<text text-anchor=\"start\" x=\"447.75\" y=\"-1298\" font-family=\"Linux libertine\" font-size=\"10.00\">input:</text>\n",
       "<polygon fill=\"none\" stroke=\"black\" points=\"481.62,-1290.5 481.62,-1312.5 566.62,-1312.5 566.62,-1290.5 481.62,-1290.5\"/>\n",
       "<text text-anchor=\"start\" x=\"486.25\" y=\"-1298\" font-family=\"Linux libertine\" font-size=\"10.00\">(16, 2, 240, 480) </text>\n",
       "<polygon fill=\"none\" stroke=\"black\" points=\"438.62,-1268.5 438.62,-1290.5 481.62,-1290.5 481.62,-1268.5 438.62,-1268.5\"/>\n",
       "<text text-anchor=\"start\" x=\"443.25\" y=\"-1276\" font-family=\"Linux libertine\" font-size=\"10.00\">output: </text>\n",
       "<polygon fill=\"none\" stroke=\"black\" points=\"481.62,-1268.5 481.62,-1290.5 566.62,-1290.5 566.62,-1268.5 481.62,-1268.5\"/>\n",
       "<text text-anchor=\"start\" x=\"489.25\" y=\"-1276\" font-family=\"Linux libertine\" font-size=\"10.00\">(16, 2, 115200) </text>\n",
       "</g>\n",
       "<!-- 1&#45;&gt;5 -->\n",
       "<g id=\"edge2\" class=\"edge\">\n",
       "<title>1&#45;&gt;5</title>\n",
       "<path fill=\"none\" stroke=\"black\" d=\"M481.12,-1349.81C481.12,-1342.2 481.12,-1332.76 481.12,-1323.71\"/>\n",
       "<polygon fill=\"black\" stroke=\"black\" points=\"484.63,-1323.74 481.13,-1313.74 477.63,-1323.74 484.63,-1323.74\"/>\n",
       "</g>\n",
       "<!-- 2 -->\n",
       "<g id=\"node3\" class=\"node\">\n",
       "<title>2</title>\n",
       "<polygon fill=\"lightyellow\" stroke=\"none\" points=\"112.25,-1226.5 0,-1226.5 0,-1192.5 112.25,-1192.5 112.25,-1226.5\"/>\n",
       "<polygon fill=\"none\" stroke=\"black\" points=\"0,-1192.5 0,-1226.5 61.75,-1226.5 61.75,-1192.5 0,-1192.5\"/>\n",
       "<text text-anchor=\"start\" x=\"5\" y=\"-1212\" font-family=\"Linux libertine\" font-size=\"10.00\">input&#45;tensor</text>\n",
       "<text text-anchor=\"start\" x=\"14.38\" y=\"-1200\" font-family=\"Linux libertine\" font-size=\"10.00\">depth:0</text>\n",
       "<polygon fill=\"none\" stroke=\"black\" points=\"61.75,-1192.5 61.75,-1226.5 112.25,-1226.5 112.25,-1192.5 61.75,-1192.5\"/>\n",
       "<text text-anchor=\"start\" x=\"66.75\" y=\"-1206\" font-family=\"Linux libertine\" font-size=\"10.00\">(16, 1, 3)</text>\n",
       "</g>\n",
       "<!-- 9 -->\n",
       "<g id=\"node10\" class=\"node\">\n",
       "<title>9</title>\n",
       "<polygon fill=\"#c1ffc1\" stroke=\"none\" points=\"352.12,-1107.5 130.12,-1107.5 130.12,-1063.5 352.12,-1063.5 352.12,-1107.5\"/>\n",
       "<polygon fill=\"none\" stroke=\"black\" points=\"130.12,-1063.5 130.12,-1107.5 173.12,-1107.5 173.12,-1063.5 130.12,-1063.5\"/>\n",
       "<text text-anchor=\"start\" x=\"139.62\" y=\"-1088\" font-family=\"Linux libertine\" font-size=\"10.00\">LSTM</text>\n",
       "<text text-anchor=\"start\" x=\"135.12\" y=\"-1076\" font-family=\"Linux libertine\" font-size=\"10.00\">depth:1</text>\n",
       "<polygon fill=\"none\" stroke=\"black\" points=\"173.12,-1085.5 173.12,-1107.5 216.12,-1107.5 216.12,-1085.5 173.12,-1085.5\"/>\n",
       "<text text-anchor=\"start\" x=\"182.25\" y=\"-1093\" font-family=\"Linux libertine\" font-size=\"10.00\">input:</text>\n",
       "<polygon fill=\"none\" stroke=\"black\" points=\"216.12,-1085.5 216.12,-1107.5 352.12,-1107.5 352.12,-1085.5 216.12,-1085.5\"/>\n",
       "<text text-anchor=\"start\" x=\"226\" y=\"-1093\" font-family=\"Linux libertine\" font-size=\"10.00\">(16, 1, 3), 2 x (1, 16, 256) </text>\n",
       "<polygon fill=\"none\" stroke=\"black\" points=\"173.12,-1063.5 173.12,-1085.5 216.12,-1085.5 216.12,-1063.5 173.12,-1063.5\"/>\n",
       "<text text-anchor=\"start\" x=\"177.75\" y=\"-1071\" font-family=\"Linux libertine\" font-size=\"10.00\">output: </text>\n",
       "<polygon fill=\"none\" stroke=\"black\" points=\"216.12,-1063.5 216.12,-1085.5 352.12,-1085.5 352.12,-1063.5 216.12,-1063.5\"/>\n",
       "<text text-anchor=\"start\" x=\"220.75\" y=\"-1071\" font-family=\"Linux libertine\" font-size=\"10.00\">(16, 1, 256), 2 x (1, 16, 256) </text>\n",
       "</g>\n",
       "<!-- 2&#45;&gt;9 -->\n",
       "<g id=\"edge3\" class=\"edge\">\n",
       "<title>2&#45;&gt;9</title>\n",
       "<path fill=\"none\" stroke=\"black\" d=\"M80.31,-1192.55C110.7,-1172.51 163.31,-1137.81 200.06,-1113.58\"/>\n",
       "<polygon fill=\"black\" stroke=\"black\" points=\"201.81,-1116.62 208.24,-1108.19 197.96,-1110.77 201.81,-1116.62\"/>\n",
       "</g>\n",
       "<!-- 17 -->\n",
       "<g id=\"node18\" class=\"node\">\n",
       "<title>17</title>\n",
       "<polygon fill=\"aliceblue\" stroke=\"none\" points=\"233.62,-682 78.62,-682 78.62,-638 233.62,-638 233.62,-682\"/>\n",
       "<polygon fill=\"none\" stroke=\"black\" points=\"78.62,-638 78.62,-682 121.62,-682 121.62,-638 78.62,-638\"/>\n",
       "<text text-anchor=\"start\" x=\"92.25\" y=\"-662.5\" font-family=\"Linux libertine\" font-size=\"10.00\">add</text>\n",
       "<text text-anchor=\"start\" x=\"83.62\" y=\"-650.5\" font-family=\"Linux libertine\" font-size=\"10.00\">depth:1</text>\n",
       "<polygon fill=\"none\" stroke=\"black\" points=\"121.62,-660 121.62,-682 164.62,-682 164.62,-660 121.62,-660\"/>\n",
       "<text text-anchor=\"start\" x=\"130.75\" y=\"-667.5\" font-family=\"Linux libertine\" font-size=\"10.00\">input:</text>\n",
       "<polygon fill=\"none\" stroke=\"black\" points=\"164.62,-660 164.62,-682 233.62,-682 233.62,-660 164.62,-660\"/>\n",
       "<text text-anchor=\"start\" x=\"169.5\" y=\"-667.5\" font-family=\"Linux libertine\" font-size=\"10.00\">2 x (16, 1, 3) </text>\n",
       "<polygon fill=\"none\" stroke=\"black\" points=\"121.62,-638 121.62,-660 164.62,-660 164.62,-638 121.62,-638\"/>\n",
       "<text text-anchor=\"start\" x=\"126.25\" y=\"-645.5\" font-family=\"Linux libertine\" font-size=\"10.00\">output: </text>\n",
       "<polygon fill=\"none\" stroke=\"black\" points=\"164.62,-638 164.62,-660 233.62,-660 233.62,-638 164.62,-638\"/>\n",
       "<text text-anchor=\"start\" x=\"177.38\" y=\"-645.5\" font-family=\"Linux libertine\" font-size=\"10.00\">(16, 1, 3) </text>\n",
       "</g>\n",
       "<!-- 2&#45;&gt;17 -->\n",
       "<g id=\"edge4\" class=\"edge\">\n",
       "<title>2&#45;&gt;17</title>\n",
       "<path fill=\"none\" stroke=\"black\" d=\"M56.12,-1192.71C56.12,-1169.45 56.12,-1124.62 56.12,-1086.5 56.12,-1086.5 56.12,-1086.5 56.12,-740 56.12,-717.28 72.22,-700.07 91.49,-687.62\"/>\n",
       "<polygon fill=\"black\" stroke=\"black\" points=\"93.04,-690.77 99.85,-682.65 89.47,-684.75 93.04,-690.77\"/>\n",
       "</g>\n",
       "<!-- 3 -->\n",
       "<g id=\"node4\" class=\"node\">\n",
       "<title>3</title>\n",
       "<polygon fill=\"lightyellow\" stroke=\"none\" points=\"864.38,-1383.5 719.88,-1383.5 719.88,-1349.5 864.38,-1349.5 864.38,-1383.5\"/>\n",
       "<polygon fill=\"none\" stroke=\"black\" points=\"719.88,-1349.5 719.88,-1383.5 781.62,-1383.5 781.62,-1349.5 719.88,-1349.5\"/>\n",
       "<text text-anchor=\"start\" x=\"724.88\" y=\"-1369\" font-family=\"Linux libertine\" font-size=\"10.00\">input&#45;tensor</text>\n",
       "<text text-anchor=\"start\" x=\"734.25\" y=\"-1357\" font-family=\"Linux libertine\" font-size=\"10.00\">depth:0</text>\n",
       "<polygon fill=\"none\" stroke=\"black\" points=\"781.62,-1349.5 781.62,-1383.5 864.38,-1383.5 864.38,-1349.5 781.62,-1349.5\"/>\n",
       "<text text-anchor=\"start\" x=\"786.62\" y=\"-1363\" font-family=\"Linux libertine\" font-size=\"10.00\">(16, 2, 240, 480)</text>\n",
       "</g>\n",
       "<!-- 10 -->\n",
       "<g id=\"node11\" class=\"node\">\n",
       "<title>10</title>\n",
       "<polygon fill=\"aliceblue\" stroke=\"none\" points=\"783.62,-1312.5 592.62,-1312.5 592.62,-1268.5 783.62,-1268.5 783.62,-1312.5\"/>\n",
       "<polygon fill=\"none\" stroke=\"black\" points=\"592.62,-1268.5 592.62,-1312.5 655.62,-1312.5 655.62,-1268.5 592.62,-1268.5\"/>\n",
       "<text text-anchor=\"start\" x=\"597.5\" y=\"-1293\" font-family=\"Linux libertine\" font-size=\"10.00\">__getitem__</text>\n",
       "<text text-anchor=\"start\" x=\"607.62\" y=\"-1281\" font-family=\"Linux libertine\" font-size=\"10.00\">depth:1</text>\n",
       "<polygon fill=\"none\" stroke=\"black\" points=\"655.62,-1290.5 655.62,-1312.5 698.62,-1312.5 698.62,-1290.5 655.62,-1290.5\"/>\n",
       "<text text-anchor=\"start\" x=\"664.75\" y=\"-1298\" font-family=\"Linux libertine\" font-size=\"10.00\">input:</text>\n",
       "<polygon fill=\"none\" stroke=\"black\" points=\"698.62,-1290.5 698.62,-1312.5 783.62,-1312.5 783.62,-1290.5 698.62,-1290.5\"/>\n",
       "<text text-anchor=\"start\" x=\"703.25\" y=\"-1298\" font-family=\"Linux libertine\" font-size=\"10.00\">(16, 2, 240, 480) </text>\n",
       "<polygon fill=\"none\" stroke=\"black\" points=\"655.62,-1268.5 655.62,-1290.5 698.62,-1290.5 698.62,-1268.5 655.62,-1268.5\"/>\n",
       "<text text-anchor=\"start\" x=\"660.25\" y=\"-1276\" font-family=\"Linux libertine\" font-size=\"10.00\">output: </text>\n",
       "<polygon fill=\"none\" stroke=\"black\" points=\"698.62,-1268.5 698.62,-1290.5 783.62,-1290.5 783.62,-1268.5 698.62,-1268.5\"/>\n",
       "<text text-anchor=\"start\" x=\"703.25\" y=\"-1276\" font-family=\"Linux libertine\" font-size=\"10.00\">(16, 1, 240, 480) </text>\n",
       "</g>\n",
       "<!-- 3&#45;&gt;10 -->\n",
       "<g id=\"edge5\" class=\"edge\">\n",
       "<title>3&#45;&gt;10</title>\n",
       "<path fill=\"none\" stroke=\"black\" d=\"M769.81,-1349.63C757.28,-1340.71 741.29,-1329.33 726.78,-1319\"/>\n",
       "<polygon fill=\"black\" stroke=\"black\" points=\"728.92,-1316.23 718.74,-1313.29 724.86,-1321.94 728.92,-1316.23\"/>\n",
       "</g>\n",
       "<!-- 19 -->\n",
       "<g id=\"node20\" class=\"node\">\n",
       "<title>19</title>\n",
       "<polygon fill=\"aliceblue\" stroke=\"none\" points=\"992.62,-1312.5 801.62,-1312.5 801.62,-1268.5 992.62,-1268.5 992.62,-1312.5\"/>\n",
       "<polygon fill=\"none\" stroke=\"black\" points=\"801.62,-1268.5 801.62,-1312.5 864.62,-1312.5 864.62,-1268.5 801.62,-1268.5\"/>\n",
       "<text text-anchor=\"start\" x=\"806.5\" y=\"-1293\" font-family=\"Linux libertine\" font-size=\"10.00\">__getitem__</text>\n",
       "<text text-anchor=\"start\" x=\"816.62\" y=\"-1281\" font-family=\"Linux libertine\" font-size=\"10.00\">depth:1</text>\n",
       "<polygon fill=\"none\" stroke=\"black\" points=\"864.62,-1290.5 864.62,-1312.5 907.62,-1312.5 907.62,-1290.5 864.62,-1290.5\"/>\n",
       "<text text-anchor=\"start\" x=\"873.75\" y=\"-1298\" font-family=\"Linux libertine\" font-size=\"10.00\">input:</text>\n",
       "<polygon fill=\"none\" stroke=\"black\" points=\"907.62,-1290.5 907.62,-1312.5 992.62,-1312.5 992.62,-1290.5 907.62,-1290.5\"/>\n",
       "<text text-anchor=\"start\" x=\"912.25\" y=\"-1298\" font-family=\"Linux libertine\" font-size=\"10.00\">(16, 2, 240, 480) </text>\n",
       "<polygon fill=\"none\" stroke=\"black\" points=\"864.62,-1268.5 864.62,-1290.5 907.62,-1290.5 907.62,-1268.5 864.62,-1268.5\"/>\n",
       "<text text-anchor=\"start\" x=\"869.25\" y=\"-1276\" font-family=\"Linux libertine\" font-size=\"10.00\">output: </text>\n",
       "<polygon fill=\"none\" stroke=\"black\" points=\"907.62,-1268.5 907.62,-1290.5 992.62,-1290.5 992.62,-1268.5 907.62,-1268.5\"/>\n",
       "<text text-anchor=\"start\" x=\"912.25\" y=\"-1276\" font-family=\"Linux libertine\" font-size=\"10.00\">(16, 1, 240, 480) </text>\n",
       "</g>\n",
       "<!-- 3&#45;&gt;19 -->\n",
       "<g id=\"edge6\" class=\"edge\">\n",
       "<title>3&#45;&gt;19</title>\n",
       "<path fill=\"none\" stroke=\"black\" d=\"M814.65,-1349.63C827.3,-1340.71 843.45,-1329.33 858.1,-1319\"/>\n",
       "<polygon fill=\"black\" stroke=\"black\" points=\"860.06,-1321.9 866.22,-1313.28 856.03,-1316.18 860.06,-1321.9\"/>\n",
       "</g>\n",
       "<!-- 7 -->\n",
       "<g id=\"node8\" class=\"node\">\n",
       "<title>7</title>\n",
       "<polygon fill=\"aliceblue\" stroke=\"none\" points=\"535.62,-1107.5 370.62,-1107.5 370.62,-1063.5 535.62,-1063.5 535.62,-1107.5\"/>\n",
       "<polygon fill=\"none\" stroke=\"black\" points=\"370.62,-1063.5 370.62,-1107.5 413.62,-1107.5 413.62,-1063.5 370.62,-1063.5\"/>\n",
       "<text text-anchor=\"start\" x=\"385.75\" y=\"-1088\" font-family=\"Linux libertine\" font-size=\"10.00\">cat</text>\n",
       "<text text-anchor=\"start\" x=\"375.62\" y=\"-1076\" font-family=\"Linux libertine\" font-size=\"10.00\">depth:1</text>\n",
       "<polygon fill=\"none\" stroke=\"black\" points=\"413.62,-1085.5 413.62,-1107.5 456.62,-1107.5 456.62,-1085.5 413.62,-1085.5\"/>\n",
       "<text text-anchor=\"start\" x=\"422.75\" y=\"-1093\" font-family=\"Linux libertine\" font-size=\"10.00\">input:</text>\n",
       "<polygon fill=\"none\" stroke=\"black\" points=\"456.62,-1085.5 456.62,-1107.5 535.62,-1107.5 535.62,-1085.5 456.62,-1085.5\"/>\n",
       "<text text-anchor=\"start\" x=\"461.25\" y=\"-1093\" font-family=\"Linux libertine\" font-size=\"10.00\">2 x (16, 2, 256) </text>\n",
       "<polygon fill=\"none\" stroke=\"black\" points=\"413.62,-1063.5 413.62,-1085.5 456.62,-1085.5 456.62,-1063.5 413.62,-1063.5\"/>\n",
       "<text text-anchor=\"start\" x=\"418.25\" y=\"-1071\" font-family=\"Linux libertine\" font-size=\"10.00\">output: </text>\n",
       "<polygon fill=\"none\" stroke=\"black\" points=\"456.62,-1063.5 456.62,-1085.5 535.62,-1085.5 535.62,-1063.5 456.62,-1063.5\"/>\n",
       "<text text-anchor=\"start\" x=\"469.12\" y=\"-1071\" font-family=\"Linux libertine\" font-size=\"10.00\">(16, 2, 512) </text>\n",
       "</g>\n",
       "<!-- 4&#45;&gt;7 -->\n",
       "<g id=\"edge7\" class=\"edge\">\n",
       "<title>4&#45;&gt;7</title>\n",
       "<path fill=\"none\" stroke=\"black\" d=\"M277.57,-1187.53C313.48,-1166.86 368.45,-1135.23 407.29,-1112.87\"/>\n",
       "<polygon fill=\"black\" stroke=\"black\" points=\"408.57,-1116.18 415.49,-1108.16 405.08,-1110.11 408.57,-1116.18\"/>\n",
       "</g>\n",
       "<!-- 4&#45;&gt;9 -->\n",
       "<g id=\"edge8\" class=\"edge\">\n",
       "<title>4&#45;&gt;9</title>\n",
       "<path fill=\"none\" stroke=\"black\" d=\"M241.12,-1187.53C241.12,-1168.56 241.12,-1140.34 241.12,-1118.55\"/>\n",
       "<polygon fill=\"black\" stroke=\"black\" points=\"244.63,-1118.71 241.13,-1108.71 237.63,-1118.71 244.63,-1118.71\"/>\n",
       "<text text-anchor=\"middle\" x=\"246.38\" y=\"-1143.62\" font-family=\"Times New Roman,serif\" font-size=\"10.00\"> x2</text>\n",
       "</g>\n",
       "<!-- 6 -->\n",
       "<g id=\"node7\" class=\"node\">\n",
       "<title>6</title>\n",
       "<polygon fill=\"#c1ffc1\" stroke=\"none\" points=\"592.12,-1231.5 370.12,-1231.5 370.12,-1187.5 592.12,-1187.5 592.12,-1231.5\"/>\n",
       "<polygon fill=\"none\" stroke=\"black\" points=\"370.12,-1187.5 370.12,-1231.5 413.12,-1231.5 413.12,-1187.5 370.12,-1187.5\"/>\n",
       "<text text-anchor=\"start\" x=\"379.62\" y=\"-1212\" font-family=\"Linux libertine\" font-size=\"10.00\">LSTM</text>\n",
       "<text text-anchor=\"start\" x=\"375.12\" y=\"-1200\" font-family=\"Linux libertine\" font-size=\"10.00\">depth:1</text>\n",
       "<polygon fill=\"none\" stroke=\"black\" points=\"413.12,-1209.5 413.12,-1231.5 456.12,-1231.5 456.12,-1209.5 413.12,-1209.5\"/>\n",
       "<text text-anchor=\"start\" x=\"422.25\" y=\"-1217\" font-family=\"Linux libertine\" font-size=\"10.00\">input:</text>\n",
       "<polygon fill=\"none\" stroke=\"black\" points=\"456.12,-1209.5 456.12,-1231.5 592.12,-1231.5 592.12,-1209.5 456.12,-1209.5\"/>\n",
       "<text text-anchor=\"start\" x=\"489.25\" y=\"-1217\" font-family=\"Linux libertine\" font-size=\"10.00\">(16, 2, 115200) </text>\n",
       "<polygon fill=\"none\" stroke=\"black\" points=\"413.12,-1187.5 413.12,-1209.5 456.12,-1209.5 456.12,-1187.5 413.12,-1187.5\"/>\n",
       "<text text-anchor=\"start\" x=\"417.75\" y=\"-1195\" font-family=\"Linux libertine\" font-size=\"10.00\">output: </text>\n",
       "<polygon fill=\"none\" stroke=\"black\" points=\"456.12,-1187.5 456.12,-1209.5 592.12,-1209.5 592.12,-1187.5 456.12,-1187.5\"/>\n",
       "<text text-anchor=\"start\" x=\"460.75\" y=\"-1195\" font-family=\"Linux libertine\" font-size=\"10.00\">(16, 2, 256), 2 x (1, 16, 256) </text>\n",
       "</g>\n",
       "<!-- 5&#45;&gt;6 -->\n",
       "<g id=\"edge9\" class=\"edge\">\n",
       "<title>5&#45;&gt;6</title>\n",
       "<path fill=\"none\" stroke=\"black\" d=\"M481.12,-1268.74C481.12,-1260.82 481.12,-1251.59 481.12,-1242.85\"/>\n",
       "<polygon fill=\"black\" stroke=\"black\" points=\"484.63,-1242.91 481.13,-1232.91 477.63,-1242.91 484.63,-1242.91\"/>\n",
       "</g>\n",
       "<!-- 6&#45;&gt;7 -->\n",
       "<g id=\"edge10\" class=\"edge\">\n",
       "<title>6&#45;&gt;7</title>\n",
       "<path fill=\"none\" stroke=\"black\" d=\"M476.31,-1187.53C471.94,-1168.47 465.42,-1140.08 460.41,-1118.24\"/>\n",
       "<polygon fill=\"black\" stroke=\"black\" points=\"463.86,-1117.64 458.21,-1108.67 457.04,-1119.2 463.86,-1117.64\"/>\n",
       "</g>\n",
       "<!-- 12 -->\n",
       "<g id=\"node13\" class=\"node\">\n",
       "<title>12</title>\n",
       "<polygon fill=\"#c1ffc1\" stroke=\"none\" points=\"802.12,-1107.5 564.12,-1107.5 564.12,-1063.5 802.12,-1063.5 802.12,-1107.5\"/>\n",
       "<polygon fill=\"none\" stroke=\"black\" points=\"564.12,-1063.5 564.12,-1107.5 607.12,-1107.5 607.12,-1063.5 564.12,-1063.5\"/>\n",
       "<text text-anchor=\"start\" x=\"573.62\" y=\"-1088\" font-family=\"Linux libertine\" font-size=\"10.00\">LSTM</text>\n",
       "<text text-anchor=\"start\" x=\"569.12\" y=\"-1076\" font-family=\"Linux libertine\" font-size=\"10.00\">depth:1</text>\n",
       "<polygon fill=\"none\" stroke=\"black\" points=\"607.12,-1085.5 607.12,-1107.5 650.12,-1107.5 650.12,-1085.5 607.12,-1085.5\"/>\n",
       "<text text-anchor=\"start\" x=\"616.25\" y=\"-1093\" font-family=\"Linux libertine\" font-size=\"10.00\">input:</text>\n",
       "<polygon fill=\"none\" stroke=\"black\" points=\"650.12,-1085.5 650.12,-1107.5 802.12,-1107.5 802.12,-1085.5 650.12,-1085.5\"/>\n",
       "<text text-anchor=\"start\" x=\"654.88\" y=\"-1093\" font-family=\"Linux libertine\" font-size=\"10.00\">(16, 1, 115200), 2 x (1, 16, 256) </text>\n",
       "<polygon fill=\"none\" stroke=\"black\" points=\"607.12,-1063.5 607.12,-1085.5 650.12,-1085.5 650.12,-1063.5 607.12,-1063.5\"/>\n",
       "<text text-anchor=\"start\" x=\"611.75\" y=\"-1071\" font-family=\"Linux libertine\" font-size=\"10.00\">output: </text>\n",
       "<polygon fill=\"none\" stroke=\"black\" points=\"650.12,-1063.5 650.12,-1085.5 802.12,-1085.5 802.12,-1063.5 650.12,-1063.5\"/>\n",
       "<text text-anchor=\"start\" x=\"662.75\" y=\"-1071\" font-family=\"Linux libertine\" font-size=\"10.00\">(16, 1, 256), 2 x (1, 16, 256) </text>\n",
       "</g>\n",
       "<!-- 6&#45;&gt;12 -->\n",
       "<g id=\"edge11\" class=\"edge\">\n",
       "<title>6&#45;&gt;12</title>\n",
       "<path fill=\"none\" stroke=\"black\" d=\"M515.85,-1187.53C549.92,-1166.95 602,-1135.5 638.98,-1113.16\"/>\n",
       "<polygon fill=\"black\" stroke=\"black\" points=\"640.47,-1116.35 647.22,-1108.19 636.85,-1110.36 640.47,-1116.35\"/>\n",
       "<text text-anchor=\"middle\" x=\"623.38\" y=\"-1143.62\" font-family=\"Times New Roman,serif\" font-size=\"10.00\"> x2</text>\n",
       "</g>\n",
       "<!-- 8 -->\n",
       "<g id=\"node9\" class=\"node\">\n",
       "<title>8</title>\n",
       "<polygon fill=\"#c1ffc1\" stroke=\"none\" points=\"515.12,-1016.25 293.12,-1016.25 293.12,-972.25 515.12,-972.25 515.12,-1016.25\"/>\n",
       "<polygon fill=\"none\" stroke=\"black\" points=\"293.12,-972.25 293.12,-1016.25 336.12,-1016.25 336.12,-972.25 293.12,-972.25\"/>\n",
       "<text text-anchor=\"start\" x=\"302.62\" y=\"-996.75\" font-family=\"Linux libertine\" font-size=\"10.00\">LSTM</text>\n",
       "<text text-anchor=\"start\" x=\"298.12\" y=\"-984.75\" font-family=\"Linux libertine\" font-size=\"10.00\">depth:1</text>\n",
       "<polygon fill=\"none\" stroke=\"black\" points=\"336.12,-994.25 336.12,-1016.25 379.12,-1016.25 379.12,-994.25 336.12,-994.25\"/>\n",
       "<text text-anchor=\"start\" x=\"345.25\" y=\"-1001.75\" font-family=\"Linux libertine\" font-size=\"10.00\">input:</text>\n",
       "<polygon fill=\"none\" stroke=\"black\" points=\"379.12,-994.25 379.12,-1016.25 515.12,-1016.25 515.12,-994.25 379.12,-994.25\"/>\n",
       "<text text-anchor=\"start\" x=\"420.12\" y=\"-1001.75\" font-family=\"Linux libertine\" font-size=\"10.00\">(16, 2, 512) </text>\n",
       "<polygon fill=\"none\" stroke=\"black\" points=\"336.12,-972.25 336.12,-994.25 379.12,-994.25 379.12,-972.25 336.12,-972.25\"/>\n",
       "<text text-anchor=\"start\" x=\"340.75\" y=\"-979.75\" font-family=\"Linux libertine\" font-size=\"10.00\">output: </text>\n",
       "<polygon fill=\"none\" stroke=\"black\" points=\"379.12,-972.25 379.12,-994.25 515.12,-994.25 515.12,-972.25 379.12,-972.25\"/>\n",
       "<text text-anchor=\"start\" x=\"383.75\" y=\"-979.75\" font-family=\"Linux libertine\" font-size=\"10.00\">(16, 2, 256), 2 x (1, 16, 256) </text>\n",
       "</g>\n",
       "<!-- 7&#45;&gt;8 -->\n",
       "<g id=\"edge12\" class=\"edge\">\n",
       "<title>7&#45;&gt;8</title>\n",
       "<path fill=\"none\" stroke=\"black\" d=\"M441.76,-1063.8C435.62,-1052.62 427.92,-1038.59 421.08,-1026.14\"/>\n",
       "<polygon fill=\"black\" stroke=\"black\" points=\"424.21,-1024.56 416.33,-1017.47 418.07,-1027.92 424.21,-1024.56\"/>\n",
       "</g>\n",
       "<!-- 14 -->\n",
       "<g id=\"node15\" class=\"node\">\n",
       "<title>14</title>\n",
       "<polygon fill=\"#c1ffc1\" stroke=\"none\" points=\"554.12,-925 332.12,-925 332.12,-881 554.12,-881 554.12,-925\"/>\n",
       "<polygon fill=\"none\" stroke=\"black\" points=\"332.12,-881 332.12,-925 375.12,-925 375.12,-881 332.12,-881\"/>\n",
       "<text text-anchor=\"start\" x=\"341.62\" y=\"-905.5\" font-family=\"Linux libertine\" font-size=\"10.00\">LSTM</text>\n",
       "<text text-anchor=\"start\" x=\"337.12\" y=\"-893.5\" font-family=\"Linux libertine\" font-size=\"10.00\">depth:1</text>\n",
       "<polygon fill=\"none\" stroke=\"black\" points=\"375.12,-903 375.12,-925 418.12,-925 418.12,-903 375.12,-903\"/>\n",
       "<text text-anchor=\"start\" x=\"384.25\" y=\"-910.5\" font-family=\"Linux libertine\" font-size=\"10.00\">input:</text>\n",
       "<polygon fill=\"none\" stroke=\"black\" points=\"418.12,-903 418.12,-925 554.12,-925 554.12,-903 418.12,-903\"/>\n",
       "<text text-anchor=\"start\" x=\"422.75\" y=\"-910.5\" font-family=\"Linux libertine\" font-size=\"10.00\">(16, 1, 512), 2 x (1, 16, 256) </text>\n",
       "<polygon fill=\"none\" stroke=\"black\" points=\"375.12,-881 375.12,-903 418.12,-903 418.12,-881 375.12,-881\"/>\n",
       "<text text-anchor=\"start\" x=\"379.75\" y=\"-888.5\" font-family=\"Linux libertine\" font-size=\"10.00\">output: </text>\n",
       "<polygon fill=\"none\" stroke=\"black\" points=\"418.12,-881 418.12,-903 554.12,-903 554.12,-881 418.12,-881\"/>\n",
       "<text text-anchor=\"start\" x=\"422.75\" y=\"-888.5\" font-family=\"Linux libertine\" font-size=\"10.00\">(16, 1, 256), 2 x (1, 16, 256) </text>\n",
       "</g>\n",
       "<!-- 8&#45;&gt;14 -->\n",
       "<g id=\"edge13\" class=\"edge\">\n",
       "<title>8&#45;&gt;14</title>\n",
       "<path fill=\"none\" stroke=\"black\" d=\"M413.17,-972.55C418.01,-961.48 424.07,-947.62 429.47,-935.26\"/>\n",
       "<polygon fill=\"black\" stroke=\"black\" points=\"432.59,-936.85 433.39,-926.28 426.18,-934.05 432.59,-936.85\"/>\n",
       "<text text-anchor=\"middle\" x=\"431.38\" y=\"-944.75\" font-family=\"Times New Roman,serif\" font-size=\"10.00\"> x2</text>\n",
       "</g>\n",
       "<!-- 13 -->\n",
       "<g id=\"node14\" class=\"node\">\n",
       "<title>13</title>\n",
       "<polygon fill=\"aliceblue\" stroke=\"none\" points=\"698.62,-1016.25 533.62,-1016.25 533.62,-972.25 698.62,-972.25 698.62,-1016.25\"/>\n",
       "<polygon fill=\"none\" stroke=\"black\" points=\"533.62,-972.25 533.62,-1016.25 576.62,-1016.25 576.62,-972.25 533.62,-972.25\"/>\n",
       "<text text-anchor=\"start\" x=\"548.75\" y=\"-996.75\" font-family=\"Linux libertine\" font-size=\"10.00\">cat</text>\n",
       "<text text-anchor=\"start\" x=\"538.62\" y=\"-984.75\" font-family=\"Linux libertine\" font-size=\"10.00\">depth:1</text>\n",
       "<polygon fill=\"none\" stroke=\"black\" points=\"576.62,-994.25 576.62,-1016.25 619.62,-1016.25 619.62,-994.25 576.62,-994.25\"/>\n",
       "<text text-anchor=\"start\" x=\"585.75\" y=\"-1001.75\" font-family=\"Linux libertine\" font-size=\"10.00\">input:</text>\n",
       "<polygon fill=\"none\" stroke=\"black\" points=\"619.62,-994.25 619.62,-1016.25 698.62,-1016.25 698.62,-994.25 619.62,-994.25\"/>\n",
       "<text text-anchor=\"start\" x=\"624.25\" y=\"-1001.75\" font-family=\"Linux libertine\" font-size=\"10.00\">2 x (16, 1, 256) </text>\n",
       "<polygon fill=\"none\" stroke=\"black\" points=\"576.62,-972.25 576.62,-994.25 619.62,-994.25 619.62,-972.25 576.62,-972.25\"/>\n",
       "<text text-anchor=\"start\" x=\"581.25\" y=\"-979.75\" font-family=\"Linux libertine\" font-size=\"10.00\">output: </text>\n",
       "<polygon fill=\"none\" stroke=\"black\" points=\"619.62,-972.25 619.62,-994.25 698.62,-994.25 698.62,-972.25 619.62,-972.25\"/>\n",
       "<text text-anchor=\"start\" x=\"632.12\" y=\"-979.75\" font-family=\"Linux libertine\" font-size=\"10.00\">(16, 1, 512) </text>\n",
       "</g>\n",
       "<!-- 9&#45;&gt;13 -->\n",
       "<g id=\"edge14\" class=\"edge\">\n",
       "<title>9&#45;&gt;13</title>\n",
       "<path fill=\"none\" stroke=\"black\" d=\"M329.05,-1063.57C387.33,-1049.7 463.7,-1031.53 523.02,-1017.41\"/>\n",
       "<polygon fill=\"black\" stroke=\"black\" points=\"523.5,-1020.89 532.42,-1015.17 521.88,-1014.08 523.5,-1020.89\"/>\n",
       "</g>\n",
       "<!-- 18 -->\n",
       "<g id=\"node19\" class=\"node\">\n",
       "<title>18</title>\n",
       "<polygon fill=\"#c1ffc1\" stroke=\"none\" points=\"424.12,-601 202.12,-601 202.12,-557 424.12,-557 424.12,-601\"/>\n",
       "<polygon fill=\"none\" stroke=\"black\" points=\"202.12,-557 202.12,-601 245.12,-601 245.12,-557 202.12,-557\"/>\n",
       "<text text-anchor=\"start\" x=\"211.62\" y=\"-581.5\" font-family=\"Linux libertine\" font-size=\"10.00\">LSTM</text>\n",
       "<text text-anchor=\"start\" x=\"207.12\" y=\"-569.5\" font-family=\"Linux libertine\" font-size=\"10.00\">depth:1</text>\n",
       "<polygon fill=\"none\" stroke=\"black\" points=\"245.12,-579 245.12,-601 288.12,-601 288.12,-579 245.12,-579\"/>\n",
       "<text text-anchor=\"start\" x=\"254.25\" y=\"-586.5\" font-family=\"Linux libertine\" font-size=\"10.00\">input:</text>\n",
       "<polygon fill=\"none\" stroke=\"black\" points=\"288.12,-579 288.12,-601 424.12,-601 424.12,-579 288.12,-579\"/>\n",
       "<text text-anchor=\"start\" x=\"298\" y=\"-586.5\" font-family=\"Linux libertine\" font-size=\"10.00\">(16, 1, 3), 2 x (1, 16, 256) </text>\n",
       "<polygon fill=\"none\" stroke=\"black\" points=\"245.12,-557 245.12,-579 288.12,-579 288.12,-557 245.12,-557\"/>\n",
       "<text text-anchor=\"start\" x=\"249.75\" y=\"-564.5\" font-family=\"Linux libertine\" font-size=\"10.00\">output: </text>\n",
       "<polygon fill=\"none\" stroke=\"black\" points=\"288.12,-557 288.12,-579 424.12,-579 424.12,-557 288.12,-557\"/>\n",
       "<text text-anchor=\"start\" x=\"292.75\" y=\"-564.5\" font-family=\"Linux libertine\" font-size=\"10.00\">(16, 1, 256), 2 x (1, 16, 256) </text>\n",
       "</g>\n",
       "<!-- 9&#45;&gt;18 -->\n",
       "<g id=\"edge15\" class=\"edge\">\n",
       "<title>9&#45;&gt;18</title>\n",
       "<path fill=\"none\" stroke=\"black\" d=\"M248.94,-1063.55C254.92,-1045.66 262.12,-1019.13 262.12,-995.25 262.12,-995.25 262.12,-995.25 262.12,-659 262.12,-640.65 271.95,-623.19 282.98,-609.37\"/>\n",
       "<polygon fill=\"black\" stroke=\"black\" points=\"285.46,-611.86 289.32,-601.99 280.15,-607.29 285.46,-611.86\"/>\n",
       "<text text-anchor=\"middle\" x=\"267.38\" y=\"-818.12\" font-family=\"Times New Roman,serif\" font-size=\"10.00\"> x2</text>\n",
       "</g>\n",
       "<!-- 11 -->\n",
       "<g id=\"node12\" class=\"node\">\n",
       "<title>11</title>\n",
       "<polygon fill=\"aliceblue\" stroke=\"none\" points=\"781.62,-1231.5 610.62,-1231.5 610.62,-1187.5 781.62,-1187.5 781.62,-1231.5\"/>\n",
       "<polygon fill=\"none\" stroke=\"black\" points=\"610.62,-1187.5 610.62,-1231.5 653.62,-1231.5 653.62,-1187.5 610.62,-1187.5\"/>\n",
       "<text text-anchor=\"start\" x=\"622.38\" y=\"-1212\" font-family=\"Linux libertine\" font-size=\"10.00\">view</text>\n",
       "<text text-anchor=\"start\" x=\"615.62\" y=\"-1200\" font-family=\"Linux libertine\" font-size=\"10.00\">depth:1</text>\n",
       "<polygon fill=\"none\" stroke=\"black\" points=\"653.62,-1209.5 653.62,-1231.5 696.62,-1231.5 696.62,-1209.5 653.62,-1209.5\"/>\n",
       "<text text-anchor=\"start\" x=\"662.75\" y=\"-1217\" font-family=\"Linux libertine\" font-size=\"10.00\">input:</text>\n",
       "<polygon fill=\"none\" stroke=\"black\" points=\"696.62,-1209.5 696.62,-1231.5 781.62,-1231.5 781.62,-1209.5 696.62,-1209.5\"/>\n",
       "<text text-anchor=\"start\" x=\"701.25\" y=\"-1217\" font-family=\"Linux libertine\" font-size=\"10.00\">(16, 1, 240, 480) </text>\n",
       "<polygon fill=\"none\" stroke=\"black\" points=\"653.62,-1187.5 653.62,-1209.5 696.62,-1209.5 696.62,-1187.5 653.62,-1187.5\"/>\n",
       "<text text-anchor=\"start\" x=\"658.25\" y=\"-1195\" font-family=\"Linux libertine\" font-size=\"10.00\">output: </text>\n",
       "<polygon fill=\"none\" stroke=\"black\" points=\"696.62,-1187.5 696.62,-1209.5 781.62,-1209.5 781.62,-1187.5 696.62,-1187.5\"/>\n",
       "<text text-anchor=\"start\" x=\"704.25\" y=\"-1195\" font-family=\"Linux libertine\" font-size=\"10.00\">(16, 1, 115200) </text>\n",
       "</g>\n",
       "<!-- 10&#45;&gt;11 -->\n",
       "<g id=\"edge16\" class=\"edge\">\n",
       "<title>10&#45;&gt;11</title>\n",
       "<path fill=\"none\" stroke=\"black\" d=\"M690.23,-1268.74C691.04,-1260.73 691.98,-1251.38 692.88,-1242.55\"/>\n",
       "<polygon fill=\"black\" stroke=\"black\" points=\"696.33,-1243.2 693.86,-1232.9 689.37,-1242.49 696.33,-1243.2\"/>\n",
       "</g>\n",
       "<!-- 11&#45;&gt;12 -->\n",
       "<g id=\"edge17\" class=\"edge\">\n",
       "<title>11&#45;&gt;12</title>\n",
       "<path fill=\"none\" stroke=\"black\" d=\"M693.89,-1187.53C691.87,-1168.56 688.86,-1140.34 686.54,-1118.55\"/>\n",
       "<polygon fill=\"black\" stroke=\"black\" points=\"690.03,-1118.28 685.49,-1108.7 683.07,-1119.02 690.03,-1118.28\"/>\n",
       "</g>\n",
       "<!-- 12&#45;&gt;13 -->\n",
       "<g id=\"edge18\" class=\"edge\">\n",
       "<title>12&#45;&gt;13</title>\n",
       "<path fill=\"none\" stroke=\"black\" d=\"M667.59,-1063.8C658.94,-1052.28 648.02,-1037.74 638.47,-1025.02\"/>\n",
       "<polygon fill=\"black\" stroke=\"black\" points=\"641.52,-1023.25 632.72,-1017.36 635.93,-1027.46 641.52,-1023.25\"/>\n",
       "</g>\n",
       "<!-- 21 -->\n",
       "<g id=\"node22\" class=\"node\">\n",
       "<title>21</title>\n",
       "<polygon fill=\"#c1ffc1\" stroke=\"none\" points=\"955.12,-1016.25 717.12,-1016.25 717.12,-972.25 955.12,-972.25 955.12,-1016.25\"/>\n",
       "<polygon fill=\"none\" stroke=\"black\" points=\"717.12,-972.25 717.12,-1016.25 760.12,-1016.25 760.12,-972.25 717.12,-972.25\"/>\n",
       "<text text-anchor=\"start\" x=\"726.62\" y=\"-996.75\" font-family=\"Linux libertine\" font-size=\"10.00\">LSTM</text>\n",
       "<text text-anchor=\"start\" x=\"722.12\" y=\"-984.75\" font-family=\"Linux libertine\" font-size=\"10.00\">depth:1</text>\n",
       "<polygon fill=\"none\" stroke=\"black\" points=\"760.12,-994.25 760.12,-1016.25 803.12,-1016.25 803.12,-994.25 760.12,-994.25\"/>\n",
       "<text text-anchor=\"start\" x=\"769.25\" y=\"-1001.75\" font-family=\"Linux libertine\" font-size=\"10.00\">input:</text>\n",
       "<polygon fill=\"none\" stroke=\"black\" points=\"803.12,-994.25 803.12,-1016.25 955.12,-1016.25 955.12,-994.25 803.12,-994.25\"/>\n",
       "<text text-anchor=\"start\" x=\"807.88\" y=\"-1001.75\" font-family=\"Linux libertine\" font-size=\"10.00\">(16, 1, 115200), 2 x (1, 16, 256) </text>\n",
       "<polygon fill=\"none\" stroke=\"black\" points=\"760.12,-972.25 760.12,-994.25 803.12,-994.25 803.12,-972.25 760.12,-972.25\"/>\n",
       "<text text-anchor=\"start\" x=\"764.75\" y=\"-979.75\" font-family=\"Linux libertine\" font-size=\"10.00\">output: </text>\n",
       "<polygon fill=\"none\" stroke=\"black\" points=\"803.12,-972.25 803.12,-994.25 955.12,-994.25 955.12,-972.25 803.12,-972.25\"/>\n",
       "<text text-anchor=\"start\" x=\"815.75\" y=\"-979.75\" font-family=\"Linux libertine\" font-size=\"10.00\">(16, 1, 256), 2 x (1, 16, 256) </text>\n",
       "</g>\n",
       "<!-- 12&#45;&gt;21 -->\n",
       "<g id=\"edge19\" class=\"edge\">\n",
       "<title>12&#45;&gt;21</title>\n",
       "<path fill=\"none\" stroke=\"black\" d=\"M719,-1063.57C740.31,-1051.14 767.55,-1035.25 790.39,-1021.93\"/>\n",
       "<polygon fill=\"black\" stroke=\"black\" points=\"792.03,-1025.02 798.91,-1016.96 788.5,-1018.98 792.03,-1025.02\"/>\n",
       "<text text-anchor=\"middle\" x=\"773.38\" y=\"-1036\" font-family=\"Times New Roman,serif\" font-size=\"10.00\"> x2</text>\n",
       "</g>\n",
       "<!-- 13&#45;&gt;14 -->\n",
       "<g id=\"edge20\" class=\"edge\">\n",
       "<title>13&#45;&gt;14</title>\n",
       "<path fill=\"none\" stroke=\"black\" d=\"M575.56,-972.32C551.14,-959.73 519.84,-943.58 493.8,-930.14\"/>\n",
       "<polygon fill=\"black\" stroke=\"black\" points=\"495.57,-927.12 485.08,-925.64 492.36,-933.34 495.57,-927.12\"/>\n",
       "</g>\n",
       "<!-- 15 -->\n",
       "<g id=\"node16\" class=\"node\">\n",
       "<title>15</title>\n",
       "<polygon fill=\"#c1ffc1\" stroke=\"none\" points=\"441.12,-844 291.12,-844 291.12,-800 441.12,-800 441.12,-844\"/>\n",
       "<polygon fill=\"none\" stroke=\"black\" points=\"291.12,-800 291.12,-844 334.12,-844 334.12,-800 291.12,-800\"/>\n",
       "<text text-anchor=\"start\" x=\"299.5\" y=\"-824.5\" font-family=\"Linux libertine\" font-size=\"10.00\">Linear</text>\n",
       "<text text-anchor=\"start\" x=\"296.12\" y=\"-812.5\" font-family=\"Linux libertine\" font-size=\"10.00\">depth:1</text>\n",
       "<polygon fill=\"none\" stroke=\"black\" points=\"334.12,-822 334.12,-844 377.12,-844 377.12,-822 334.12,-822\"/>\n",
       "<text text-anchor=\"start\" x=\"343.25\" y=\"-829.5\" font-family=\"Linux libertine\" font-size=\"10.00\">input:</text>\n",
       "<polygon fill=\"none\" stroke=\"black\" points=\"377.12,-822 377.12,-844 441.12,-844 441.12,-822 377.12,-822\"/>\n",
       "<text text-anchor=\"start\" x=\"382.12\" y=\"-829.5\" font-family=\"Linux libertine\" font-size=\"10.00\">(16, 1, 256) </text>\n",
       "<polygon fill=\"none\" stroke=\"black\" points=\"334.12,-800 334.12,-822 377.12,-822 377.12,-800 334.12,-800\"/>\n",
       "<text text-anchor=\"start\" x=\"338.75\" y=\"-807.5\" font-family=\"Linux libertine\" font-size=\"10.00\">output: </text>\n",
       "<polygon fill=\"none\" stroke=\"black\" points=\"377.12,-800 377.12,-822 441.12,-822 441.12,-800 377.12,-800\"/>\n",
       "<text text-anchor=\"start\" x=\"382.12\" y=\"-807.5\" font-family=\"Linux libertine\" font-size=\"10.00\">(16, 1, 256) </text>\n",
       "</g>\n",
       "<!-- 14&#45;&gt;15 -->\n",
       "<g id=\"edge21\" class=\"edge\">\n",
       "<title>14&#45;&gt;15</title>\n",
       "<path fill=\"none\" stroke=\"black\" d=\"M422.89,-881.24C414.21,-872.33 403.91,-861.77 394.48,-852.1\"/>\n",
       "<polygon fill=\"black\" stroke=\"black\" points=\"397.03,-849.69 387.54,-844.98 392.02,-854.58 397.03,-849.69\"/>\n",
       "</g>\n",
       "<!-- 23 -->\n",
       "<g id=\"node24\" class=\"node\">\n",
       "<title>23</title>\n",
       "<polygon fill=\"#c1ffc1\" stroke=\"none\" points=\"580.12,-439 358.12,-439 358.12,-395 580.12,-395 580.12,-439\"/>\n",
       "<polygon fill=\"none\" stroke=\"black\" points=\"358.12,-395 358.12,-439 401.12,-439 401.12,-395 358.12,-395\"/>\n",
       "<text text-anchor=\"start\" x=\"367.62\" y=\"-419.5\" font-family=\"Linux libertine\" font-size=\"10.00\">LSTM</text>\n",
       "<text text-anchor=\"start\" x=\"363.12\" y=\"-407.5\" font-family=\"Linux libertine\" font-size=\"10.00\">depth:1</text>\n",
       "<polygon fill=\"none\" stroke=\"black\" points=\"401.12,-417 401.12,-439 444.12,-439 444.12,-417 401.12,-417\"/>\n",
       "<text text-anchor=\"start\" x=\"410.25\" y=\"-424.5\" font-family=\"Linux libertine\" font-size=\"10.00\">input:</text>\n",
       "<polygon fill=\"none\" stroke=\"black\" points=\"444.12,-417 444.12,-439 580.12,-439 580.12,-417 444.12,-417\"/>\n",
       "<text text-anchor=\"start\" x=\"448.75\" y=\"-424.5\" font-family=\"Linux libertine\" font-size=\"10.00\">(16, 1, 512), 2 x (1, 16, 256) </text>\n",
       "<polygon fill=\"none\" stroke=\"black\" points=\"401.12,-395 401.12,-417 444.12,-417 444.12,-395 401.12,-395\"/>\n",
       "<text text-anchor=\"start\" x=\"405.75\" y=\"-402.5\" font-family=\"Linux libertine\" font-size=\"10.00\">output: </text>\n",
       "<polygon fill=\"none\" stroke=\"black\" points=\"444.12,-395 444.12,-417 580.12,-417 580.12,-395 444.12,-395\"/>\n",
       "<text text-anchor=\"start\" x=\"448.75\" y=\"-402.5\" font-family=\"Linux libertine\" font-size=\"10.00\">(16, 1, 256), 2 x (1, 16, 256) </text>\n",
       "</g>\n",
       "<!-- 14&#45;&gt;23 -->\n",
       "<g id=\"edge22\" class=\"edge\">\n",
       "<title>14&#45;&gt;23</title>\n",
       "<path fill=\"none\" stroke=\"black\" d=\"M454,-881.15C461.13,-865.57 469.12,-843.5 469.12,-823 469.12,-823 469.12,-823 469.12,-497 469.12,-481.57 469.12,-464.45 469.12,-450.1\"/>\n",
       "<polygon fill=\"black\" stroke=\"black\" points=\"472.63,-450.31 469.13,-440.31 465.63,-450.31 472.63,-450.31\"/>\n",
       "<text text-anchor=\"middle\" x=\"474.38\" y=\"-656.12\" font-family=\"Times New Roman,serif\" font-size=\"10.00\"> x2</text>\n",
       "</g>\n",
       "<!-- 16 -->\n",
       "<g id=\"node17\" class=\"node\">\n",
       "<title>16</title>\n",
       "<polygon fill=\"#c1ffc1\" stroke=\"none\" points=\"234.12,-763 84.12,-763 84.12,-719 234.12,-719 234.12,-763\"/>\n",
       "<polygon fill=\"none\" stroke=\"black\" points=\"84.12,-719 84.12,-763 127.12,-763 127.12,-719 84.12,-719\"/>\n",
       "<text text-anchor=\"start\" x=\"92.5\" y=\"-743.5\" font-family=\"Linux libertine\" font-size=\"10.00\">Linear</text>\n",
       "<text text-anchor=\"start\" x=\"89.12\" y=\"-731.5\" font-family=\"Linux libertine\" font-size=\"10.00\">depth:1</text>\n",
       "<polygon fill=\"none\" stroke=\"black\" points=\"127.12,-741 127.12,-763 170.12,-763 170.12,-741 127.12,-741\"/>\n",
       "<text text-anchor=\"start\" x=\"136.25\" y=\"-748.5\" font-family=\"Linux libertine\" font-size=\"10.00\">input:</text>\n",
       "<polygon fill=\"none\" stroke=\"black\" points=\"170.12,-741 170.12,-763 234.12,-763 234.12,-741 170.12,-741\"/>\n",
       "<text text-anchor=\"start\" x=\"175.12\" y=\"-748.5\" font-family=\"Linux libertine\" font-size=\"10.00\">(16, 1, 256) </text>\n",
       "<polygon fill=\"none\" stroke=\"black\" points=\"127.12,-719 127.12,-741 170.12,-741 170.12,-719 127.12,-719\"/>\n",
       "<text text-anchor=\"start\" x=\"131.75\" y=\"-726.5\" font-family=\"Linux libertine\" font-size=\"10.00\">output: </text>\n",
       "<polygon fill=\"none\" stroke=\"black\" points=\"170.12,-719 170.12,-741 234.12,-741 234.12,-719 170.12,-719\"/>\n",
       "<text text-anchor=\"start\" x=\"180.38\" y=\"-726.5\" font-family=\"Linux libertine\" font-size=\"10.00\">(16, 1, 3) </text>\n",
       "</g>\n",
       "<!-- 15&#45;&gt;16 -->\n",
       "<g id=\"edge23\" class=\"edge\">\n",
       "<title>15&#45;&gt;16</title>\n",
       "<path fill=\"none\" stroke=\"black\" d=\"M311.2,-800.04C284.54,-789.86 252.32,-777.57 224.41,-766.92\"/>\n",
       "<polygon fill=\"black\" stroke=\"black\" points=\"225.96,-763.76 215.37,-763.46 223.46,-770.3 225.96,-763.76\"/>\n",
       "</g>\n",
       "<!-- 16&#45;&gt;17 -->\n",
       "<g id=\"edge24\" class=\"edge\">\n",
       "<title>16&#45;&gt;17</title>\n",
       "<path fill=\"none\" stroke=\"black\" d=\"M158.34,-719.24C158.04,-711.32 157.69,-702.09 157.35,-693.35\"/>\n",
       "<polygon fill=\"black\" stroke=\"black\" points=\"160.85,-693.26 156.98,-683.4 153.86,-693.53 160.85,-693.26\"/>\n",
       "</g>\n",
       "<!-- 17&#45;&gt;18 -->\n",
       "<g id=\"edge25\" class=\"edge\">\n",
       "<title>17&#45;&gt;18</title>\n",
       "<path fill=\"none\" stroke=\"black\" d=\"M197.79,-638.04C217.29,-628.22 240.72,-616.43 261.36,-606.05\"/>\n",
       "<polygon fill=\"black\" stroke=\"black\" points=\"262.83,-609.23 270.19,-601.6 259.68,-602.97 262.83,-609.23\"/>\n",
       "</g>\n",
       "<!-- 26 -->\n",
       "<g id=\"node27\" class=\"node\">\n",
       "<title>26</title>\n",
       "<polygon fill=\"aliceblue\" stroke=\"none\" points=\"319.62,-196 164.62,-196 164.62,-152 319.62,-152 319.62,-196\"/>\n",
       "<polygon fill=\"none\" stroke=\"black\" points=\"164.62,-152 164.62,-196 207.62,-196 207.62,-152 164.62,-152\"/>\n",
       "<text text-anchor=\"start\" x=\"178.25\" y=\"-176.5\" font-family=\"Linux libertine\" font-size=\"10.00\">add</text>\n",
       "<text text-anchor=\"start\" x=\"169.62\" y=\"-164.5\" font-family=\"Linux libertine\" font-size=\"10.00\">depth:1</text>\n",
       "<polygon fill=\"none\" stroke=\"black\" points=\"207.62,-174 207.62,-196 250.62,-196 250.62,-174 207.62,-174\"/>\n",
       "<text text-anchor=\"start\" x=\"216.75\" y=\"-181.5\" font-family=\"Linux libertine\" font-size=\"10.00\">input:</text>\n",
       "<polygon fill=\"none\" stroke=\"black\" points=\"250.62,-174 250.62,-196 319.62,-196 319.62,-174 250.62,-174\"/>\n",
       "<text text-anchor=\"start\" x=\"255.5\" y=\"-181.5\" font-family=\"Linux libertine\" font-size=\"10.00\">2 x (16, 1, 3) </text>\n",
       "<polygon fill=\"none\" stroke=\"black\" points=\"207.62,-152 207.62,-174 250.62,-174 250.62,-152 207.62,-152\"/>\n",
       "<text text-anchor=\"start\" x=\"212.25\" y=\"-159.5\" font-family=\"Linux libertine\" font-size=\"10.00\">output: </text>\n",
       "<polygon fill=\"none\" stroke=\"black\" points=\"250.62,-152 250.62,-174 319.62,-174 319.62,-152 250.62,-152\"/>\n",
       "<text text-anchor=\"start\" x=\"263.38\" y=\"-159.5\" font-family=\"Linux libertine\" font-size=\"10.00\">(16, 1, 3) </text>\n",
       "</g>\n",
       "<!-- 17&#45;&gt;26 -->\n",
       "<g id=\"edge26\" class=\"edge\">\n",
       "<title>17&#45;&gt;26</title>\n",
       "<path fill=\"none\" stroke=\"black\" d=\"M163.55,-638.17C168.51,-622.41 174.12,-600.12 174.12,-580 174.12,-580 174.12,-580 174.12,-254 174.12,-234.03 186.76,-216.6 201.13,-203.23\"/>\n",
       "<polygon fill=\"black\" stroke=\"black\" points=\"203.28,-206 208.57,-196.82 198.71,-200.7 203.28,-206\"/>\n",
       "</g>\n",
       "<!-- 27 -->\n",
       "<g id=\"node28\" class=\"node\">\n",
       "<title>27</title>\n",
       "<polygon fill=\"aliceblue\" stroke=\"none\" points=\"225.62,-115 70.62,-115 70.62,-71 225.62,-71 225.62,-115\"/>\n",
       "<polygon fill=\"none\" stroke=\"black\" points=\"70.62,-71 70.62,-115 113.62,-115 113.62,-71 70.62,-71\"/>\n",
       "<text text-anchor=\"start\" x=\"85.75\" y=\"-95.5\" font-family=\"Linux libertine\" font-size=\"10.00\">cat</text>\n",
       "<text text-anchor=\"start\" x=\"75.62\" y=\"-83.5\" font-family=\"Linux libertine\" font-size=\"10.00\">depth:1</text>\n",
       "<polygon fill=\"none\" stroke=\"black\" points=\"113.62,-93 113.62,-115 156.62,-115 156.62,-93 113.62,-93\"/>\n",
       "<text text-anchor=\"start\" x=\"122.75\" y=\"-100.5\" font-family=\"Linux libertine\" font-size=\"10.00\">input:</text>\n",
       "<polygon fill=\"none\" stroke=\"black\" points=\"156.62,-93 156.62,-115 225.62,-115 225.62,-93 156.62,-93\"/>\n",
       "<text text-anchor=\"start\" x=\"161.5\" y=\"-100.5\" font-family=\"Linux libertine\" font-size=\"10.00\">2 x (16, 1, 3) </text>\n",
       "<polygon fill=\"none\" stroke=\"black\" points=\"113.62,-71 113.62,-93 156.62,-93 156.62,-71 113.62,-71\"/>\n",
       "<text text-anchor=\"start\" x=\"118.25\" y=\"-78.5\" font-family=\"Linux libertine\" font-size=\"10.00\">output: </text>\n",
       "<polygon fill=\"none\" stroke=\"black\" points=\"156.62,-71 156.62,-93 225.62,-93 225.62,-71 156.62,-71\"/>\n",
       "<text text-anchor=\"start\" x=\"169.38\" y=\"-78.5\" font-family=\"Linux libertine\" font-size=\"10.00\">(16, 2, 3) </text>\n",
       "</g>\n",
       "<!-- 17&#45;&gt;27 -->\n",
       "<g id=\"edge27\" class=\"edge\">\n",
       "<title>17&#45;&gt;27</title>\n",
       "<path fill=\"none\" stroke=\"black\" d=\"M147.87,-638.24C142.37,-622.51 136.12,-600.23 136.12,-580 136.12,-580 136.12,-580 136.12,-173 136.12,-157.5 138.41,-140.49 140.99,-126.23\"/>\n",
       "<polygon fill=\"black\" stroke=\"black\" points=\"144.41,-126.96 142.89,-116.48 137.54,-125.62 144.41,-126.96\"/>\n",
       "</g>\n",
       "<!-- 22 -->\n",
       "<g id=\"node23\" class=\"node\">\n",
       "<title>22</title>\n",
       "<polygon fill=\"aliceblue\" stroke=\"none\" points=\"662.62,-520 497.62,-520 497.62,-476 662.62,-476 662.62,-520\"/>\n",
       "<polygon fill=\"none\" stroke=\"black\" points=\"497.62,-476 497.62,-520 540.62,-520 540.62,-476 497.62,-476\"/>\n",
       "<text text-anchor=\"start\" x=\"512.75\" y=\"-500.5\" font-family=\"Linux libertine\" font-size=\"10.00\">cat</text>\n",
       "<text text-anchor=\"start\" x=\"502.62\" y=\"-488.5\" font-family=\"Linux libertine\" font-size=\"10.00\">depth:1</text>\n",
       "<polygon fill=\"none\" stroke=\"black\" points=\"540.62,-498 540.62,-520 583.62,-520 583.62,-498 540.62,-498\"/>\n",
       "<text text-anchor=\"start\" x=\"549.75\" y=\"-505.5\" font-family=\"Linux libertine\" font-size=\"10.00\">input:</text>\n",
       "<polygon fill=\"none\" stroke=\"black\" points=\"583.62,-498 583.62,-520 662.62,-520 662.62,-498 583.62,-498\"/>\n",
       "<text text-anchor=\"start\" x=\"588.25\" y=\"-505.5\" font-family=\"Linux libertine\" font-size=\"10.00\">2 x (16, 1, 256) </text>\n",
       "<polygon fill=\"none\" stroke=\"black\" points=\"540.62,-476 540.62,-498 583.62,-498 583.62,-476 540.62,-476\"/>\n",
       "<text text-anchor=\"start\" x=\"545.25\" y=\"-483.5\" font-family=\"Linux libertine\" font-size=\"10.00\">output: </text>\n",
       "<polygon fill=\"none\" stroke=\"black\" points=\"583.62,-476 583.62,-498 662.62,-498 662.62,-476 583.62,-476\"/>\n",
       "<text text-anchor=\"start\" x=\"596.12\" y=\"-483.5\" font-family=\"Linux libertine\" font-size=\"10.00\">(16, 1, 512) </text>\n",
       "</g>\n",
       "<!-- 18&#45;&gt;22 -->\n",
       "<g id=\"edge28\" class=\"edge\">\n",
       "<title>18&#45;&gt;22</title>\n",
       "<path fill=\"none\" stroke=\"black\" d=\"M383.98,-557.04C419.27,-546.59 462.12,-533.92 498.75,-523.08\"/>\n",
       "<polygon fill=\"black\" stroke=\"black\" points=\"499.36,-526.55 507.96,-520.35 497.37,-519.83 499.36,-526.55\"/>\n",
       "</g>\n",
       "<!-- 20 -->\n",
       "<g id=\"node21\" class=\"node\">\n",
       "<title>20</title>\n",
       "<polygon fill=\"aliceblue\" stroke=\"none\" points=\"942.62,-1169.5 771.62,-1169.5 771.62,-1125.5 942.62,-1125.5 942.62,-1169.5\"/>\n",
       "<polygon fill=\"none\" stroke=\"black\" points=\"771.62,-1125.5 771.62,-1169.5 814.62,-1169.5 814.62,-1125.5 771.62,-1125.5\"/>\n",
       "<text text-anchor=\"start\" x=\"783.38\" y=\"-1150\" font-family=\"Linux libertine\" font-size=\"10.00\">view</text>\n",
       "<text text-anchor=\"start\" x=\"776.62\" y=\"-1138\" font-family=\"Linux libertine\" font-size=\"10.00\">depth:1</text>\n",
       "<polygon fill=\"none\" stroke=\"black\" points=\"814.62,-1147.5 814.62,-1169.5 857.62,-1169.5 857.62,-1147.5 814.62,-1147.5\"/>\n",
       "<text text-anchor=\"start\" x=\"823.75\" y=\"-1155\" font-family=\"Linux libertine\" font-size=\"10.00\">input:</text>\n",
       "<polygon fill=\"none\" stroke=\"black\" points=\"857.62,-1147.5 857.62,-1169.5 942.62,-1169.5 942.62,-1147.5 857.62,-1147.5\"/>\n",
       "<text text-anchor=\"start\" x=\"862.25\" y=\"-1155\" font-family=\"Linux libertine\" font-size=\"10.00\">(16, 1, 240, 480) </text>\n",
       "<polygon fill=\"none\" stroke=\"black\" points=\"814.62,-1125.5 814.62,-1147.5 857.62,-1147.5 857.62,-1125.5 814.62,-1125.5\"/>\n",
       "<text text-anchor=\"start\" x=\"819.25\" y=\"-1133\" font-family=\"Linux libertine\" font-size=\"10.00\">output: </text>\n",
       "<polygon fill=\"none\" stroke=\"black\" points=\"857.62,-1125.5 857.62,-1147.5 942.62,-1147.5 942.62,-1125.5 857.62,-1125.5\"/>\n",
       "<text text-anchor=\"start\" x=\"865.25\" y=\"-1133\" font-family=\"Linux libertine\" font-size=\"10.00\">(16, 1, 115200) </text>\n",
       "</g>\n",
       "<!-- 19&#45;&gt;20 -->\n",
       "<g id=\"edge29\" class=\"edge\">\n",
       "<title>19&#45;&gt;20</title>\n",
       "<path fill=\"none\" stroke=\"black\" d=\"M891.22,-1268.69C884.61,-1245.37 873.8,-1207.28 866.13,-1180.23\"/>\n",
       "<polygon fill=\"black\" stroke=\"black\" points=\"869.56,-1179.51 863.46,-1170.85 862.83,-1181.42 869.56,-1179.51\"/>\n",
       "</g>\n",
       "<!-- 20&#45;&gt;21 -->\n",
       "<g id=\"edge30\" class=\"edge\">\n",
       "<title>20&#45;&gt;21</title>\n",
       "<path fill=\"none\" stroke=\"black\" d=\"M854.25,-1125.79C850.72,-1100.36 844.69,-1056.96 840.57,-1027.24\"/>\n",
       "<polygon fill=\"black\" stroke=\"black\" points=\"844.08,-1027.12 839.24,-1017.7 837.15,-1028.08 844.08,-1027.12\"/>\n",
       "</g>\n",
       "<!-- 21&#45;&gt;22 -->\n",
       "<g id=\"edge31\" class=\"edge\">\n",
       "<title>21&#45;&gt;22</title>\n",
       "<path fill=\"none\" stroke=\"black\" d=\"M754.73,-972.28C700.12,-955.74 638.12,-931.01 638.12,-904 638.12,-904 638.12,-904 638.12,-578 638.12,-558.98 627.06,-541.5 614.6,-527.85\"/>\n",
       "<polygon fill=\"black\" stroke=\"black\" points=\"617.32,-525.62 607.81,-520.95 612.33,-530.53 617.32,-525.62\"/>\n",
       "</g>\n",
       "<!-- 22&#45;&gt;23 -->\n",
       "<g id=\"edge32\" class=\"edge\">\n",
       "<title>22&#45;&gt;23</title>\n",
       "<path fill=\"none\" stroke=\"black\" d=\"M550.67,-476.04C537.39,-466.59 521.54,-455.31 507.37,-445.22\"/>\n",
       "<polygon fill=\"black\" stroke=\"black\" points=\"509.74,-442.61 499.57,-439.66 505.68,-448.31 509.74,-442.61\"/>\n",
       "</g>\n",
       "<!-- 24 -->\n",
       "<g id=\"node25\" class=\"node\">\n",
       "<title>24</title>\n",
       "<polygon fill=\"#c1ffc1\" stroke=\"none\" points=\"498.12,-358 348.12,-358 348.12,-314 498.12,-314 498.12,-358\"/>\n",
       "<polygon fill=\"none\" stroke=\"black\" points=\"348.12,-314 348.12,-358 391.12,-358 391.12,-314 348.12,-314\"/>\n",
       "<text text-anchor=\"start\" x=\"356.5\" y=\"-338.5\" font-family=\"Linux libertine\" font-size=\"10.00\">Linear</text>\n",
       "<text text-anchor=\"start\" x=\"353.12\" y=\"-326.5\" font-family=\"Linux libertine\" font-size=\"10.00\">depth:1</text>\n",
       "<polygon fill=\"none\" stroke=\"black\" points=\"391.12,-336 391.12,-358 434.12,-358 434.12,-336 391.12,-336\"/>\n",
       "<text text-anchor=\"start\" x=\"400.25\" y=\"-343.5\" font-family=\"Linux libertine\" font-size=\"10.00\">input:</text>\n",
       "<polygon fill=\"none\" stroke=\"black\" points=\"434.12,-336 434.12,-358 498.12,-358 498.12,-336 434.12,-336\"/>\n",
       "<text text-anchor=\"start\" x=\"439.12\" y=\"-343.5\" font-family=\"Linux libertine\" font-size=\"10.00\">(16, 1, 256) </text>\n",
       "<polygon fill=\"none\" stroke=\"black\" points=\"391.12,-314 391.12,-336 434.12,-336 434.12,-314 391.12,-314\"/>\n",
       "<text text-anchor=\"start\" x=\"395.75\" y=\"-321.5\" font-family=\"Linux libertine\" font-size=\"10.00\">output: </text>\n",
       "<polygon fill=\"none\" stroke=\"black\" points=\"434.12,-314 434.12,-336 498.12,-336 498.12,-314 434.12,-314\"/>\n",
       "<text text-anchor=\"start\" x=\"439.12\" y=\"-321.5\" font-family=\"Linux libertine\" font-size=\"10.00\">(16, 1, 256) </text>\n",
       "</g>\n",
       "<!-- 23&#45;&gt;24 -->\n",
       "<g id=\"edge33\" class=\"edge\">\n",
       "<title>23&#45;&gt;24</title>\n",
       "<path fill=\"none\" stroke=\"black\" d=\"M457.04,-395.24C452.11,-386.78 446.32,-376.83 440.92,-367.57\"/>\n",
       "<polygon fill=\"black\" stroke=\"black\" points=\"444.11,-366.08 436.05,-359.2 438.06,-369.6 444.11,-366.08\"/>\n",
       "</g>\n",
       "<!-- 25 -->\n",
       "<g id=\"node26\" class=\"node\">\n",
       "<title>25</title>\n",
       "<polygon fill=\"#c1ffc1\" stroke=\"none\" points=\"439.12,-277 289.12,-277 289.12,-233 439.12,-233 439.12,-277\"/>\n",
       "<polygon fill=\"none\" stroke=\"black\" points=\"289.12,-233 289.12,-277 332.12,-277 332.12,-233 289.12,-233\"/>\n",
       "<text text-anchor=\"start\" x=\"297.5\" y=\"-257.5\" font-family=\"Linux libertine\" font-size=\"10.00\">Linear</text>\n",
       "<text text-anchor=\"start\" x=\"294.12\" y=\"-245.5\" font-family=\"Linux libertine\" font-size=\"10.00\">depth:1</text>\n",
       "<polygon fill=\"none\" stroke=\"black\" points=\"332.12,-255 332.12,-277 375.12,-277 375.12,-255 332.12,-255\"/>\n",
       "<text text-anchor=\"start\" x=\"341.25\" y=\"-262.5\" font-family=\"Linux libertine\" font-size=\"10.00\">input:</text>\n",
       "<polygon fill=\"none\" stroke=\"black\" points=\"375.12,-255 375.12,-277 439.12,-277 439.12,-255 375.12,-255\"/>\n",
       "<text text-anchor=\"start\" x=\"380.12\" y=\"-262.5\" font-family=\"Linux libertine\" font-size=\"10.00\">(16, 1, 256) </text>\n",
       "<polygon fill=\"none\" stroke=\"black\" points=\"332.12,-233 332.12,-255 375.12,-255 375.12,-233 332.12,-233\"/>\n",
       "<text text-anchor=\"start\" x=\"336.75\" y=\"-240.5\" font-family=\"Linux libertine\" font-size=\"10.00\">output: </text>\n",
       "<polygon fill=\"none\" stroke=\"black\" points=\"375.12,-233 375.12,-255 439.12,-255 439.12,-233 375.12,-233\"/>\n",
       "<text text-anchor=\"start\" x=\"385.38\" y=\"-240.5\" font-family=\"Linux libertine\" font-size=\"10.00\">(16, 1, 3) </text>\n",
       "</g>\n",
       "<!-- 24&#45;&gt;25 -->\n",
       "<g id=\"edge34\" class=\"edge\">\n",
       "<title>24&#45;&gt;25</title>\n",
       "<path fill=\"none\" stroke=\"black\" d=\"M407.62,-314.24C401.17,-305.6 393.55,-295.41 386.51,-285.98\"/>\n",
       "<polygon fill=\"black\" stroke=\"black\" points=\"389.42,-284.02 380.63,-278.1 383.81,-288.21 389.42,-284.02\"/>\n",
       "</g>\n",
       "<!-- 25&#45;&gt;26 -->\n",
       "<g id=\"edge35\" class=\"edge\">\n",
       "<title>25&#45;&gt;26</title>\n",
       "<path fill=\"none\" stroke=\"black\" d=\"M331.75,-233.04C317.02,-223.5 299.41,-212.09 283.71,-201.93\"/>\n",
       "<polygon fill=\"black\" stroke=\"black\" points=\"285.79,-199.11 275.5,-196.61 281.99,-204.98 285.79,-199.11\"/>\n",
       "</g>\n",
       "<!-- 26&#45;&gt;27 -->\n",
       "<g id=\"edge36\" class=\"edge\">\n",
       "<title>26&#45;&gt;27</title>\n",
       "<path fill=\"none\" stroke=\"black\" d=\"M217.43,-152.24C206.5,-143.06 193.49,-132.12 181.7,-122.22\"/>\n",
       "<polygon fill=\"black\" stroke=\"black\" points=\"184.05,-119.62 174.14,-115.87 179.55,-124.98 184.05,-119.62\"/>\n",
       "</g>\n",
       "<!-- 28 -->\n",
       "<g id=\"node29\" class=\"node\">\n",
       "<title>28</title>\n",
       "<polygon fill=\"lightyellow\" stroke=\"none\" points=\"207.25,-34 89,-34 89,0 207.25,0 207.25,-34\"/>\n",
       "<polygon fill=\"none\" stroke=\"black\" points=\"89,0 89,-34 156.75,-34 156.75,0 89,0\"/>\n",
       "<text text-anchor=\"start\" x=\"94\" y=\"-19.5\" font-family=\"Linux libertine\" font-size=\"10.00\">output&#45;tensor</text>\n",
       "<text text-anchor=\"start\" x=\"106.38\" y=\"-7.5\" font-family=\"Linux libertine\" font-size=\"10.00\">depth:0</text>\n",
       "<polygon fill=\"none\" stroke=\"black\" points=\"156.75,0 156.75,-34 207.25,-34 207.25,0 156.75,0\"/>\n",
       "<text text-anchor=\"start\" x=\"161.75\" y=\"-13.5\" font-family=\"Linux libertine\" font-size=\"10.00\">(16, 2, 3)</text>\n",
       "</g>\n",
       "<!-- 27&#45;&gt;28 -->\n",
       "<g id=\"edge37\" class=\"edge\">\n",
       "<title>27&#45;&gt;28</title>\n",
       "<path fill=\"none\" stroke=\"black\" d=\"M148.12,-71.39C148.12,-63.15 148.12,-53.57 148.12,-44.8\"/>\n",
       "<polygon fill=\"black\" stroke=\"black\" points=\"151.63,-45.09 148.13,-35.09 144.63,-45.09 151.63,-45.09\"/>\n",
       "</g>\n",
       "</g>\n",
       "</svg>\n"
      ],
      "text/plain": [
       "<graphviz.graphs.Digraph at 0x1dc47e29110>"
      ]
     },
     "execution_count": 57,
     "metadata": {},
     "output_type": "execute_result"
    }
   ],
   "source": [
    "model_graph.visual_graph"
   ]
  },
  {
   "cell_type": "code",
   "execution_count": 52,
   "metadata": {},
   "outputs": [
    {
     "data": {
      "text/plain": [
       "'track.png'"
      ]
     },
     "execution_count": 52,
     "metadata": {},
     "output_type": "execute_result"
    }
   ],
   "source": [
    "make_dot(prediction,params=dict(list(model.named_parameters()))).render('track',format='png')"
   ]
  },
  {
   "cell_type": "code",
   "execution_count": 29,
   "metadata": {},
   "outputs": [],
   "source": [
    "loss=criterion(prediction,targets.to(device))\n",
    "loss.backward()"
   ]
  },
  {
   "cell_type": "code",
   "execution_count": 28,
   "metadata": {},
   "outputs": [
    {
     "data": {
      "text/plain": [
       "torch.Size([4, 25, 3])"
      ]
     },
     "execution_count": 28,
     "metadata": {},
     "output_type": "execute_result"
    }
   ],
   "source": [
    "prediction.shape"
   ]
  }
 ],
 "metadata": {
  "kernelspec": {
   "display_name": ".venv",
   "language": "python",
   "name": "python3"
  },
  "language_info": {
   "codemirror_mode": {
    "name": "ipython",
    "version": 3
   },
   "file_extension": ".py",
   "mimetype": "text/x-python",
   "name": "python",
   "nbconvert_exporter": "python",
   "pygments_lexer": "ipython3",
   "version": "3.11.6"
  }
 },
 "nbformat": 4,
 "nbformat_minor": 2
}
