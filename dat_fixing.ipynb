{
 "cells": [
  {
   "cell_type": "code",
   "execution_count": 1,
   "metadata": {},
   "outputs": [],
   "source": [
    "\n",
    "import os\n",
    "import sys\n",
    "import numpy as np\n",
    "import torch\n",
    "import torch.nn as nn\n",
    "from torch.utils.data import DataLoader\n",
    "from torchinfo import summary\n",
    "import os\n",
    "import sys\n",
    "import matplotlib.pyplot as plt\n",
    "import argparse\n",
    "import shutil\n",
    "import pandas as pd\n",
    "from sklearn.model_selection import train_test_split\n"
   ]
  },
  {
   "cell_type": "code",
   "execution_count": 2,
   "metadata": {},
   "outputs": [],
   "source": [
    "import TRACK_POS, TRACK_SAL\n",
    "import position_dataset"
   ]
  },
  {
   "cell_type": "code",
   "execution_count": 3,
   "metadata": {},
   "outputs": [],
   "source": [
    "from Utils import cartesian_to_eulerian, eulerian_to_cartesian, get_max_sal_pos,load_dict_from_csv,all_metrics, store_list_as_csv, MetricOrthLoss, OrthDist\n",
    "from data_utils import fan_nossdav_split, PositionDataset\n",
    "from DatasetHelper import read_sampled_positions_for_trace, load_saliency, load_true_saliency, get_video_ids, get_user_ids, get_users_per_video, split_list_by_percentage, partition_in_train_and_test_without_any_intersection, partition_in_train_and_test_without_video_intersection, partition_in_train_and_test"
   ]
  },
  {
   "cell_type": "code",
   "execution_count": 4,
   "metadata": {},
   "outputs": [
    {
     "name": "stdout",
     "output_type": "stream",
     "text": [
      "Using GPU\n"
     ]
    }
   ],
   "source": [
    "if torch.cuda.is_available():\n",
    "    device=torch.device(\"cuda\")\n",
    "    print(\"Using GPU\")\n",
    "dataset_name=\"Jin_22\"\n",
    "dataset_name=\"Fan_NOSSDAV_17\"\n",
    "M_WINDOW=5\n",
    "H_WINDOW=25\n",
    "INIT_WINDOW=M_WINDOW\n",
    "END_WINDOW=H_WINDOW\n",
    "EPOCHS=500\n",
    "NUM_TILES_WIDTH=480\n",
    "NUM_TILES_HEIGHT=240\n",
    "NUM_TILES_WIDTH_TRUE_SAL = 256\n",
    "NUM_TILES_HEIGHT_TRUE_SAL = 256\n",
    "RATE = 0.2\n",
    "PERC_VIDEOS_TRAIN = 0.6\n",
    "PERC_USERS_TRAIN = 0.6\n",
    "BATCH_SIZE = 64\n",
    "model_name='TRACK'\n",
    "root_folder='/media/Blue2TB1'\n",
    "root_dataset_folder = os.path.join(root_folder, dataset_name)\n",
    "EXP_NAME=f\"_init_{INIT_WINDOW}_in_{M_WINDOW}_out_{H_WINDOW}_end_{END_WINDOW}\"\n",
    "SAMPLED_DATASET_FOLDER=os.path.join(root_dataset_folder,'sampled_dataset')\n",
    "VIDEO_DATA_FOLDER=os.path.join(root_dataset_folder,'video_data')\n",
    "SALIENCY_FOLDER = os.path.join(root_dataset_folder, 'extract_saliency/saliency')"
   ]
  },
  {
   "cell_type": "code",
   "execution_count": 5,
   "metadata": {},
   "outputs": [],
   "source": [
    "videos = get_video_ids(VIDEO_DATA_FOLDER)\n",
    "users = get_user_ids(VIDEO_DATA_FOLDER)\n",
    "users_per_video = get_users_per_video(VIDEO_DATA_FOLDER)"
   ]
  },
  {
   "cell_type": "code",
   "execution_count": 6,
   "metadata": {},
   "outputs": [],
   "source": [
    "train_traces,test_traces,video_test_traces,user_test_traces=fan_nossdav_split(SAMPLED_DATASET_FOLDER,video_ratio=PERC_VIDEOS_TRAIN,user_ratio=PERC_USERS_TRAIN)"
   ]
  },
  {
   "cell_type": "code",
   "execution_count": 7,
   "metadata": {},
   "outputs": [],
   "source": [
    "partitions=partition_in_train_and_test(SAMPLED_DATASET_FOLDER,INIT_WINDOW,END_WINDOW,train_traces,test_traces,user_test_traces=user_test_traces,video_test_traces=video_test_traces)"
   ]
  },
  {
   "cell_type": "code",
   "execution_count": 8,
   "metadata": {},
   "outputs": [
    {
     "data": {
      "text/plain": [
       "array([['user25', 'diving'],\n",
       "       ['user25', 'ride'],\n",
       "       ['user25', 'sport'],\n",
       "       ['user25', 'game'],\n",
       "       ['user25', 'panel'],\n",
       "       ['user25', 'pacman'],\n",
       "       ['user37', 'diving'],\n",
       "       ['user37', 'ride'],\n",
       "       ['user37', 'sport'],\n",
       "       ['user37', 'game'],\n",
       "       ['user37', 'panel'],\n",
       "       ['user37', 'pacman'],\n",
       "       ['user47', 'diving'],\n",
       "       ['user47', 'ride'],\n",
       "       ['user47', 'sport'],\n",
       "       ['user47', 'game'],\n",
       "       ['user47', 'panel'],\n",
       "       ['user47', 'pacman'],\n",
       "       ['user49', 'diving'],\n",
       "       ['user49', 'ride'],\n",
       "       ['user49', 'sport'],\n",
       "       ['user49', 'game'],\n",
       "       ['user49', 'panel'],\n",
       "       ['user49', 'pacman'],\n",
       "       ['user24', 'diving'],\n",
       "       ['user24', 'ride'],\n",
       "       ['user24', 'sport'],\n",
       "       ['user24', 'game'],\n",
       "       ['user24', 'panel'],\n",
       "       ['user24', 'pacman'],\n",
       "       ['user27', 'diving'],\n",
       "       ['user27', 'ride'],\n",
       "       ['user27', 'sport'],\n",
       "       ['user27', 'game'],\n",
       "       ['user27', 'panel'],\n",
       "       ['user27', 'pacman'],\n",
       "       ['user43', 'diving'],\n",
       "       ['user43', 'ride'],\n",
       "       ['user43', 'sport'],\n",
       "       ['user43', 'game'],\n",
       "       ['user43', 'panel'],\n",
       "       ['user43', 'pacman'],\n",
       "       ['user42', 'diving'],\n",
       "       ['user42', 'ride'],\n",
       "       ['user42', 'sport'],\n",
       "       ['user42', 'game'],\n",
       "       ['user42', 'panel'],\n",
       "       ['user42', 'pacman'],\n",
       "       ['user45', 'diving'],\n",
       "       ['user45', 'ride'],\n",
       "       ['user45', 'sport'],\n",
       "       ['user45', 'game'],\n",
       "       ['user45', 'panel'],\n",
       "       ['user45', 'pacman'],\n",
       "       ['user40', 'diving'],\n",
       "       ['user40', 'ride'],\n",
       "       ['user40', 'sport'],\n",
       "       ['user40', 'game'],\n",
       "       ['user40', 'panel'],\n",
       "       ['user40', 'pacman'],\n",
       "       ['user50', 'diving'],\n",
       "       ['user50', 'ride'],\n",
       "       ['user50', 'sport'],\n",
       "       ['user50', 'game'],\n",
       "       ['user50', 'panel'],\n",
       "       ['user50', 'pacman'],\n",
       "       ['user44', 'diving'],\n",
       "       ['user44', 'ride'],\n",
       "       ['user44', 'sport'],\n",
       "       ['user44', 'game'],\n",
       "       ['user44', 'panel'],\n",
       "       ['user44', 'pacman'],\n",
       "       ['user28', 'diving'],\n",
       "       ['user28', 'ride'],\n",
       "       ['user28', 'sport'],\n",
       "       ['user28', 'game'],\n",
       "       ['user28', 'panel'],\n",
       "       ['user28', 'pacman'],\n",
       "       ['user21', 'diving'],\n",
       "       ['user21', 'ride'],\n",
       "       ['user21', 'sport'],\n",
       "       ['user21', 'game'],\n",
       "       ['user21', 'panel'],\n",
       "       ['user21', 'pacman'],\n",
       "       ['user38', 'diving'],\n",
       "       ['user38', 'ride'],\n",
       "       ['user38', 'sport'],\n",
       "       ['user38', 'game'],\n",
       "       ['user38', 'panel'],\n",
       "       ['user38', 'pacman'],\n",
       "       ['user26', 'diving'],\n",
       "       ['user26', 'ride'],\n",
       "       ['user26', 'sport'],\n",
       "       ['user26', 'game'],\n",
       "       ['user26', 'panel'],\n",
       "       ['user26', 'pacman'],\n",
       "       ['user41', 'diving'],\n",
       "       ['user41', 'ride'],\n",
       "       ['user41', 'sport'],\n",
       "       ['user41', 'game'],\n",
       "       ['user41', 'panel'],\n",
       "       ['user41', 'pacman'],\n",
       "       ['user35', 'diving'],\n",
       "       ['user35', 'ride'],\n",
       "       ['user35', 'sport'],\n",
       "       ['user35', 'game'],\n",
       "       ['user35', 'panel'],\n",
       "       ['user35', 'pacman']], dtype='<U6')"
      ]
     },
     "execution_count": 8,
     "metadata": {},
     "output_type": "execute_result"
    }
   ],
   "source": [
    "train_traces"
   ]
  },
  {
   "cell_type": "code",
   "execution_count": 9,
   "metadata": {},
   "outputs": [],
   "source": [
    "from sklearn.model_selection import train_test_split\n",
    "import pandas as pd\n",
    "import matplotlib.pyplot as plt\n",
    "import numpy as np\n",
    "from sklearn.preprocessing import StandardScaler\n",
    "from sklearn.cluster import KMeans\n",
    "import random"
   ]
  },
  {
   "cell_type": "code",
   "execution_count": 10,
   "metadata": {},
   "outputs": [],
   "source": [
    "drive_dir='D:/'\n",
    "datasets=[#'MM_18',\n",
    "          'Fan_NOSSDAV_17',\n",
    "          'CVPR18',\n",
    "          'PAMI18',\n",
    "          'MMSys18',\n",
    "          'Jin_22']"
   ]
  },
  {
   "cell_type": "code",
   "execution_count": 11,
   "metadata": {},
   "outputs": [],
   "source": [
    "dataset_dir='D:/Jin_22'\n"
   ]
  },
  {
   "cell_type": "code",
   "execution_count": 12,
   "metadata": {},
   "outputs": [
    {
     "data": {
      "text/plain": [
       "['user21',\n",
       " 'user22',\n",
       " 'user23',\n",
       " 'user24',\n",
       " 'user25',\n",
       " 'user26',\n",
       " 'user27',\n",
       " 'user28',\n",
       " 'user29',\n",
       " 'user30',\n",
       " 'user31',\n",
       " 'user32',\n",
       " 'user33',\n",
       " 'user34',\n",
       " 'user35',\n",
       " 'user36',\n",
       " 'user37',\n",
       " 'user38',\n",
       " 'user39',\n",
       " 'user40',\n",
       " 'user41',\n",
       " 'user42',\n",
       " 'user43',\n",
       " 'user44',\n",
       " 'user45',\n",
       " 'user46',\n",
       " 'user47',\n",
       " 'user48',\n",
       " 'user49',\n",
       " 'user50']"
      ]
     },
     "execution_count": 12,
     "metadata": {},
     "output_type": "execute_result"
    }
   ],
   "source": [
    "users"
   ]
  },
  {
   "cell_type": "code",
   "execution_count": null,
   "metadata": {},
   "outputs": [],
   "source": []
  },
  {
   "cell_type": "code",
   "execution_count": 13,
   "metadata": {},
   "outputs": [],
   "source": [
    "def get_trace_pairs(users_per_video,video_list,user_list):\n",
    "    trace_pairs=[]\n",
    "    for video in video_list:\n",
    "        for user in user_list:\n",
    "            if user in users_per_video[video]:\n",
    "                trace_pairs.append([user,video])\n",
    "                \n",
    "    return np.array(trace_pairs)"
   ]
  },
  {
   "cell_type": "code",
   "execution_count": 14,
   "metadata": {},
   "outputs": [],
   "source": [
    "def var_norm(data, epsilon=1e-5):\n",
    "    return np.var(data)/max(np.mean(data),epsilon)\n",
    "def split_videos(dataset_dir,bins=2, video_test_size=0.4):\n",
    "    data_dir=os.path.join(dataset_dir,'video_data')\n",
    "    videos=os.listdir(data_dir)\n",
    "    AE={}\n",
    "    SI={}\n",
    "    TI={}\n",
    "    CE={}\n",
    "    for video in videos:\n",
    "        vid_path=os.path.join(data_dir,video)\n",
    "        siti_path=os.path.join(data_dir,video)\n",
    "        AE[video]=np.load(os.path.join(vid_path,f'{video}_AEs.npy'))\n",
    "        AE[video]=np.mean(AE[video])\n",
    "        CE[video]=np.load(os.path.join(vid_path,f'{video}_content_entropy.npy'))\n",
    "        CE[video]=np.mean(CE[video])\n",
    "        SI[video]=np.load(os.path.join(siti_path,f'{video}_SI.npy'))\n",
    "        SI[video]=np.mean(SI[video])\n",
    "        TI[video]=np.load(os.path.join(siti_path,f'{video}_TI.npy'))\n",
    "        TI[video]=np.mean(TI[video])\n",
    "    ae_bins = pd.qcut(list(AE.values()), q=bins, labels=False)\n",
    "    ce_bins = pd.qcut(list(CE.values()), q=bins, labels=False)\n",
    "    si_bins = pd.qcut(list(SI.values()), q=bins, labels=False)\n",
    "    ti_bins = pd.qcut(list(TI.values()), q=bins, labels=False)\n",
    "    \n",
    "    strat_keys = [f\"{ae}_{ce}\" for ae, ce in zip(ae_bins, ce_bins)]\n",
    "    \n",
    "    try:\n",
    "        train_videos, test_videos = train_test_split(videos, test_size=video_test_size, stratify=strat_keys)\n",
    "    except ValueError :\n",
    "        print(\"Can't use combined stratified key\")\n",
    "        ae_variance = var_norm(list(AE.values()))\n",
    "        ce_variance = var_norm(list(CE.values()))\n",
    "        if ae_variance > ce_variance:\n",
    "            strat_keys = ae_bins\n",
    "            print(\"Using AE for stratification\")\n",
    "        else:\n",
    "            strat_keys = ce_bins\n",
    "            print(\"Using CE for stratification\")\n",
    "        \n",
    "        try:\n",
    "            train_videos, test_videos = train_test_split(videos, test_size=video_test_size, stratify=strat_keys)\n",
    "        except ValueError:\n",
    "            print(\"Can't use stratified keys, using random split instead.\")\n",
    "            train_videos, test_videos = train_test_split(videos, test_size=video_test_size)\n",
    "    \n",
    "    \"\"\" # Separate the metrics into train and test sets\n",
    "    train_AE = [AE[video] for video in train_videos]\n",
    "    train_CE = [CE[video] for video in train_videos]\n",
    "\n",
    "    test_AE = [AE[video] for video in test_videos]\n",
    "    test_CE = [CE[video] for video in test_videos]\n",
    "    # Step 4: Plot the metrics\n",
    "\n",
    "    plt.figure(figsize=(12, 6))\n",
    "\n",
    "    # Plot AE vs CE\n",
    "    plt.scatter(train_AE, train_CE, color='blue', label='Train')\n",
    "    plt.scatter(test_AE, test_CE, color='red', label='Test')\n",
    "    plt.xlabel('AE')\n",
    "    plt.ylabel('CE')\n",
    "    plt.title('AE vs CE')\n",
    "    plt.legend()\n",
    "\n",
    "    plt.show() \"\"\"\n",
    "    return train_videos,test_videos"
   ]
  },
  {
   "cell_type": "code",
   "execution_count": 15,
   "metadata": {},
   "outputs": [],
   "source": [
    "def split_data_all_users(dataset_dir,total_users,users_per_video,bins=2,video_test_size=0.4,user_test_size=0.4):\n",
    "    train_vids,test_vids=split_videos(dataset_dir=dataset_dir,bins=bins,video_test_size=video_test_size)\n",
    "    random.shuffle(total_users)\n",
    "    num_train_vids=len(train_vids)\n",
    "    \n",
    "    # Get train and test users\n",
    "    num_train_users=int(len(total_users)*(1-video_test_size))\n",
    "    train_users = total_users[:num_train_users]\n",
    "    test_users = total_users[num_train_users:]\n",
    "    \n",
    "    train_traces=get_trace_pairs(users_per_video,train_vids,train_users)\n",
    "    test_traces=get_trace_pairs(users_per_video,test_vids,test_users)\n",
    "    new_video_old_user_traces=get_trace_pairs(users_per_video,test_vids,train_users)\n",
    "    old_video_new_user_traces=get_trace_pairs(users_per_video,train_vids,test_users)\n",
    "    return train_traces,test_traces,new_video_old_user_traces,old_video_new_user_traces, train_vids,test_vids\n",
    "    "
   ]
  },
  {
   "cell_type": "code",
   "execution_count": 16,
   "metadata": {},
   "outputs": [
    {
     "name": "stdout",
     "output_type": "stream",
     "text": [
      "Can't use combined stratified key\n",
      "Using CE for stratification\n"
     ]
    }
   ],
   "source": [
    "t1,t2,t3,t4, train_videos,test_videos=split_data_all_users(root_dataset_folder,users,users_per_video)"
   ]
  },
  {
   "cell_type": "code",
   "execution_count": 27,
   "metadata": {},
   "outputs": [
    {
     "name": "stdout",
     "output_type": "stream",
     "text": [
      "/media/Blue2TB1/Jin_22\n"
     ]
    }
   ],
   "source": [
    "datasets=[#'MM_18',\n",
    "          #'Fan_NOSSDAV_17',\n",
    "          #'CVPR18',\n",
    "          #'PAMI18',\n",
    "          #'MMSys18',\n",
    "          'Jin_22']\n",
    "for dataset in datasets:\n",
    "    dataset_dir=os.path.join(root_folder,dataset)\n",
    "    \n",
    "    vid_data_path=os.path.join(dataset_dir,'video_data')\n",
    "    vid_images=os.path.join(dataset_dir,'5fps_Video_Images')\n",
    "    videos=os.listdir(vid_data_path)\n",
    "    print(dataset_dir)\n",
    "    for video in videos:\n",
    "        image_paths=os.path.join(vid_images,video)\n",
    "        traj_paths=os.path.join(vid_data_path,video)\n",
    "        trajectory=np.load(os.path.join(traj_paths,f'{video}_unit_vectors.npy'))\n",
    "        traj_tstamps=np.load(os.path.join(traj_paths,f'{video}_timestamps.npy'))\n",
    "        \n",
    "        images=np.load(os.path.join(image_paths,'sampled_video.npy'))\n",
    "        video_tstamps=np.load(os.path.join(image_paths,'timestamps.npy'))\n",
    "        if traj_tstamps.shape != video_tstamps.shape:\n",
    "            print(video)\n",
    "    break\n",
    "        "
   ]
  },
  {
   "cell_type": "code",
   "execution_count": null,
   "metadata": {},
   "outputs": [
    {
     "data": {
      "image/png": "[encoded data removed]",
      "text/plain": [
       "<Figure size 1200x600 with 1 Axes>"
      ]
     },
     "metadata": {},
     "output_type": "display_data"
    }
   ],
   "source": [
    "train,test=split_data()"
   ]
  },
  {
   "cell_type": "code",
   "execution_count": null,
   "metadata": {},
   "outputs": [
    {
     "ename": "FileNotFoundError",
     "evalue": "[Errno 2] No such file or directory: '/media/Blue2TB1/Jin_22/video_data/video_1/video_SI.npy'",
     "output_type": "error",
     "traceback": [
      "\u001b[0;31m---------------------------------------------------------------------------\u001b[0m",
      "\u001b[0;31mFileNotFoundError\u001b[0m                         Traceback (most recent call last)",
      "Cell \u001b[0;32mIn[13], line 1\u001b[0m\n\u001b[0;32m----> 1\u001b[0m si\u001b[38;5;241m=\u001b[39m\u001b[43mnp\u001b[49m\u001b[38;5;241;43m.\u001b[39;49m\u001b[43mload\u001b[49m\u001b[43m(\u001b[49m\u001b[38;5;124;43m'\u001b[39;49m\u001b[38;5;124;43m/media/Blue2TB1/Jin_22/video_data/video_1/video_SI.npy\u001b[39;49m\u001b[38;5;124;43m'\u001b[39;49m\u001b[43m)\u001b[49m\n",
      "File \u001b[0;32m~/XR-pipeline/.venv/lib/python3.10/site-packages/numpy/lib/npyio.py:427\u001b[0m, in \u001b[0;36mload\u001b[0;34m(file, mmap_mode, allow_pickle, fix_imports, encoding, max_header_size)\u001b[0m\n\u001b[1;32m    425\u001b[0m     own_fid \u001b[38;5;241m=\u001b[39m \u001b[38;5;28;01mFalse\u001b[39;00m\n\u001b[1;32m    426\u001b[0m \u001b[38;5;28;01melse\u001b[39;00m:\n\u001b[0;32m--> 427\u001b[0m     fid \u001b[38;5;241m=\u001b[39m stack\u001b[38;5;241m.\u001b[39menter_context(\u001b[38;5;28;43mopen\u001b[39;49m\u001b[43m(\u001b[49m\u001b[43mos_fspath\u001b[49m\u001b[43m(\u001b[49m\u001b[43mfile\u001b[49m\u001b[43m)\u001b[49m\u001b[43m,\u001b[49m\u001b[43m \u001b[49m\u001b[38;5;124;43m\"\u001b[39;49m\u001b[38;5;124;43mrb\u001b[39;49m\u001b[38;5;124;43m\"\u001b[39;49m\u001b[43m)\u001b[49m)\n\u001b[1;32m    428\u001b[0m     own_fid \u001b[38;5;241m=\u001b[39m \u001b[38;5;28;01mTrue\u001b[39;00m\n\u001b[1;32m    430\u001b[0m \u001b[38;5;66;03m# Code to distinguish from NumPy binary files and pickles.\u001b[39;00m\n",
      "\u001b[0;31mFileNotFoundError\u001b[0m: [Errno 2] No such file or directory: '/media/Blue2TB1/Jin_22/video_data/video_1/video_SI.npy'"
     ]
    }
   ],
   "source": [
    "si=np.load('/media/Blue2TB1/Jin_22/video_data/video_1/video_SI.npy')"
   ]
  },
  {
   "cell_type": "code",
   "execution_count": null,
   "metadata": {},
   "outputs": [
    {
     "data": {
      "image/png": "[encoded data removed]",
      "text/plain": [
       "<Figure size 1200x600 with 1 Axes>"
      ]
     },
     "metadata": {},
     "output_type": "display_data"
    }
   ],
   "source": [
    "dataset_dir='D:/CVPR18'\n",
    "train,test=split_data(dataset_dir)"
   ]
  },
  {
   "cell_type": "code",
   "execution_count": null,
   "metadata": {},
   "outputs": [
    {
     "data": {
      "image/png": "[encoded data removed]",
      "text/plain": [
       "<Figure size 1200x600 with 1 Axes>"
      ]
     },
     "metadata": {},
     "output_type": "display_data"
    }
   ],
   "source": [
    "dataset_dir='D:/PAMI18'\n",
    "train,test=split_data(dataset_dir)"
   ]
  },
  {
   "cell_type": "code",
   "execution_count": null,
   "metadata": {},
   "outputs": [],
   "source": []
  }
 ],
 "metadata": {
  "kernelspec": {
   "display_name": ".venv",
   "language": "python",
   "name": "python3"
  },
  "language_info": {
   "codemirror_mode": {
    "name": "ipython",
    "version": 3
   },
   "file_extension": ".py",
   "mimetype": "text/x-python",
   "name": "python",
   "nbconvert_exporter": "python",
   "pygments_lexer": "ipython3",
   "version": "3.10.12"
  }
 },
 "nbformat": 4,
 "nbformat_minor": 2
}
